{
 "cells": [
  {
   "cell_type": "markdown",
   "metadata": {},
   "source": [
    "# Sandbox"
   ]
  },
  {
   "cell_type": "code",
   "execution_count": 2,
   "metadata": {},
   "outputs": [],
   "source": [
    "# For type annotations\n",
    "from typing import Callable\n",
    "\n",
    "from docplex.mp.dvar import Var\n",
    "from docplex.mp.model import Model\n",
    "from docplex.mp.constr import LinearConstraint"
   ]
  },
  {
   "cell_type": "code",
   "execution_count": 3,
   "metadata": {},
   "outputs": [],
   "source": [
    "def _find_root(func: Callable[[float], float], interval: tuple[float, float], precision: float) -> float:\n",
    "    (a, b) = interval\n",
    "    interval_length = b - a\n",
    "\n",
    "    if func(a) * func(b) >= 0:\n",
    "        raise Exception('No root guaranteed to exist in the interval ' + str(interval))\n",
    "\n",
    "    mean = (a + b) / 2\n",
    "\n",
    "    if precision >= interval_length:\n",
    "        return mean\n",
    "\n",
    "    if func(mean) == 0:\n",
    "        return mean\n",
    "\n",
    "    if func(mean) * func(b) < 0:\n",
    "        new_interval = (mean, b)\n",
    "\n",
    "    if func(a) * func(mean) < 0:\n",
    "        new_interval = (a, mean)\n",
    "\n",
    "    return _find_root(func, new_interval, precision)"
   ]
  },
  {
   "cell_type": "code",
   "execution_count": 4,
   "metadata": {},
   "outputs": [],
   "source": [
    "\n",
    "def stretch_to_the_right(model: Model, constraint: LinearConstraint, precision: float = 0.0):\n",
    "\tdef f(value_to_try: float) -> float:\n",
    "\t\tconstraint.right_expr.constant = value_to_try\n",
    "\t\tmodel.solve()\n",
    "\t\tif model.solution is None:\n",
    "\t\t\treturn 1.0\n",
    "\t\telse:\n",
    "\t\t\treturn -1.0\n",
    "\n",
    "\tx: Var = constraint.left_expr\n",
    "\tinterval = (constraint.right_expr.constant, x.ub)\n",
    "\n",
    "\t# constraint.right_expr.constant = x.ub\n",
    "\tmodel.maximize(x)\n",
    "\t# model.solve()\n",
    "\n",
    "\t# constraint.right_expr.constant = x.solution_value\n",
    "\n",
    "\t_find_root(f, interval, precision)\n",
    "\n",
    "\tmodel.remove_objective()"
   ]
  },
  {
   "cell_type": "code",
   "execution_count": 41,
   "metadata": {},
   "outputs": [
    {
     "ename": "Exception",
     "evalue": "No root guaranteed to exist in the interval (0, 5)",
     "output_type": "error",
     "traceback": [
      "\u001b[0;31m---------------------------------------------------------------------------\u001b[0m",
      "\u001b[0;31mException\u001b[0m                                 Traceback (most recent call last)",
      "Cell \u001b[0;32mIn [41], line 8\u001b[0m\n\u001b[1;32m      5\u001b[0m constraint \u001b[39m=\u001b[39m model\u001b[39m.\u001b[39madd_constraint(x \u001b[39m<\u001b[39m\u001b[39m=\u001b[39m \u001b[39m0\u001b[39m, ctname\u001b[39m=\u001b[39m\u001b[39m'\u001b[39m\u001b[39mconstraint to stretch\u001b[39m\u001b[39m'\u001b[39m)\n\u001b[1;32m      7\u001b[0m \u001b[39m# precision = 0.01\u001b[39;00m\n\u001b[0;32m----> 8\u001b[0m stretch_to_the_right(model, constraint)\n\u001b[1;32m     10\u001b[0m \u001b[39massert\u001b[39;00m constraint\u001b[39m.\u001b[39mright_expr\u001b[39m.\u001b[39mconstant \u001b[39m==\u001b[39m \u001b[39m3\u001b[39m\n",
      "Cell \u001b[0;32mIn [4], line 19\u001b[0m, in \u001b[0;36mstretch_to_the_right\u001b[0;34m(model, constraint, precision)\u001b[0m\n\u001b[1;32m     14\u001b[0m model\u001b[39m.\u001b[39mmaximize(x)\n\u001b[1;32m     15\u001b[0m \u001b[39m# model.solve()\u001b[39;00m\n\u001b[1;32m     16\u001b[0m \n\u001b[1;32m     17\u001b[0m \u001b[39m# constraint.right_expr.constant = x.solution_value\u001b[39;00m\n\u001b[0;32m---> 19\u001b[0m _find_root(f, interval, precision)\n\u001b[1;32m     21\u001b[0m model\u001b[39m.\u001b[39mremove_objective()\n",
      "Cell \u001b[0;32mIn [3], line 6\u001b[0m, in \u001b[0;36m_find_root\u001b[0;34m(func, interval, precision)\u001b[0m\n\u001b[1;32m      3\u001b[0m interval_length \u001b[39m=\u001b[39m b \u001b[39m-\u001b[39m a\n\u001b[1;32m      5\u001b[0m \u001b[39mif\u001b[39;00m func(a) \u001b[39m*\u001b[39m func(b) \u001b[39m>\u001b[39m\u001b[39m=\u001b[39m \u001b[39m0\u001b[39m:\n\u001b[0;32m----> 6\u001b[0m     \u001b[39mraise\u001b[39;00m \u001b[39mException\u001b[39;00m(\u001b[39m'\u001b[39m\u001b[39mNo root guaranteed to exist in the interval \u001b[39m\u001b[39m'\u001b[39m \u001b[39m+\u001b[39m \u001b[39mstr\u001b[39m(interval))\n\u001b[1;32m      8\u001b[0m mean \u001b[39m=\u001b[39m (a \u001b[39m+\u001b[39m b) \u001b[39m/\u001b[39m \u001b[39m2\u001b[39m\n\u001b[1;32m     10\u001b[0m \u001b[39mif\u001b[39;00m precision \u001b[39m>\u001b[39m\u001b[39m=\u001b[39m interval_length:\n",
      "\u001b[0;31mException\u001b[0m: No root guaranteed to exist in the interval (0, 5)"
     ]
    }
   ],
   "source": [
    "# def test_base_on_another_constraint(self):\n",
    "model = Model()\n",
    "x = model.continuous_var(lb=0, ub=5, name='x')\n",
    "model.add_constraint(x <= 3)\n",
    "constraint = model.add_constraint(x <= 0, ctname='constraint to stretch')\n",
    "\n",
    "# precision = 0.01\n",
    "stretch_to_the_right(model, constraint)\n",
    "\n",
    "assert constraint.right_expr.constant == 3"
   ]
  },
  {
   "cell_type": "code",
   "execution_count": 30,
   "metadata": {},
   "outputs": [],
   "source": [
    "m = Model('sandbox')\n",
    "x = m.continuous_var(0, 20, 'x')"
   ]
  },
  {
   "cell_type": "code",
   "execution_count": 31,
   "metadata": {},
   "outputs": [],
   "source": [
    "m.maximize(x)"
   ]
  },
  {
   "cell_type": "code",
   "execution_count": 32,
   "metadata": {},
   "outputs": [],
   "source": [
    "c = m.add_constraint(x <= 10)"
   ]
  },
  {
   "cell_type": "code",
   "execution_count": 39,
   "metadata": {},
   "outputs": [],
   "source": [
    "c.rhs.constant = 18"
   ]
  },
  {
   "cell_type": "code",
   "execution_count": 40,
   "metadata": {},
   "outputs": [
    {
     "data": {
      "text/plain": [
       "18.0"
      ]
     },
     "execution_count": 40,
     "metadata": {},
     "output_type": "execute_result"
    }
   ],
   "source": [
    "m.solve()\n",
    "x.solution_value"
   ]
  },
  {
   "cell_type": "code",
   "execution_count": null,
   "metadata": {},
   "outputs": [],
   "source": []
  }
 ],
 "metadata": {
  "kernelspec": {
   "display_name": "Python 3",
   "language": "python",
   "name": "python3"
  },
  "language_info": {
   "codemirror_mode": {
    "name": "ipython",
    "version": 3
   },
   "file_extension": ".py",
   "mimetype": "text/x-python",
   "name": "python",
   "nbconvert_exporter": "python",
   "pygments_lexer": "ipython3",
   "version": "3.10.7"
  },
  "orig_nbformat": 4,
  "vscode": {
   "interpreter": {
    "hash": "916dbcbb3f70747c44a77c7bcd40155683ae19c65e1c03b4aa3499c5328201f1"
   }
  }
 },
 "nbformat": 4,
 "nbformat_minor": 2
}
