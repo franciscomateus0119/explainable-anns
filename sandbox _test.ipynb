{
 "cells": [
  {
   "attachments": {},
   "cell_type": "markdown",
   "metadata": {},
   "source": [
    "# Sandbox - _Test"
   ]
  },
  {
   "cell_type": "code",
   "execution_count": 31,
   "metadata": {},
   "outputs": [],
   "source": [
    "import pandas as pd\n",
    "import tensorflow as tf\n",
    "\n",
    "from milp import codify_network\n",
    "from teste import get_minimal_explanation"
   ]
  },
  {
   "cell_type": "code",
   "execution_count": 32,
   "metadata": {},
   "outputs": [],
   "source": [
    "import numpy as np"
   ]
  },
  {
   "cell_type": "code",
   "execution_count": 33,
   "metadata": {},
   "outputs": [],
   "source": [
    "dataset_name = '_test'\n",
    "n_classes = 2\n",
    "\n",
    "training_data = pd.read_csv(f'datasets/{dataset_name}/train.csv')\n",
    "testing_data = pd.read_csv(f'datasets/{dataset_name}/test.csv')\n",
    "\n",
    "dataframe = pd.concat([training_data, testing_data])\n",
    "\n",
    "keras_model = tf.keras.models.load_model(f'datasets/{dataset_name}/model_4layers_{dataset_name}.h5')\n",
    "\n",
    "data = dataframe.to_numpy()\n"
   ]
  },
  {
   "cell_type": "code",
   "execution_count": 34,
   "metadata": {},
   "outputs": [],
   "source": [
    "mp_model, output_bounds = codify_network(keras_model, dataframe, 'fischetti', relax_constraints=False)"
   ]
  },
  {
   "attachments": {},
   "cell_type": "markdown",
   "metadata": {},
   "source": [
    "### Printing What the Model Predicted\n",
    "\n",
    "_Aka_ printing the network output."
   ]
  },
  {
   "cell_type": "code",
   "execution_count": 35,
   "metadata": {},
   "outputs": [
    {
     "name": "stdout",
     "output_type": "stream",
     "text": [
      "i = 138\n",
      "1/1 [==============================] - 0s 74ms/step\n",
      "1/1 [==============================] - 0s 20ms/step\n",
      "Predictions: (ndarray[ndarray[<class 'numpy.float32'>]]) 0.11612741\n",
      "Network output: (<class 'numpy.int64'>) 1\n"
     ]
    }
   ],
   "source": [
    "# for i in [134, 138]:\n",
    "for i in [138]:\n",
    "\tprint('i =', i)\n",
    "\tnetwork_input = data[i, :-1]\n",
    "\tnetwork_input = tf.reshape(tf.constant(network_input), [1, -1])\n",
    "\tnetwork_output = keras_model.predict(tf.constant(network_input))[0]\n",
    "\tnetwork_output = tf.argmax(network_output)\n",
    "\n",
    "\tpredictions = keras_model.predict(tf.constant(network_input))[0, 0]\n",
    "\n",
    "\tprint(f'Predictions: (ndarray[ndarray[{type(predictions)}]])', predictions)\n",
    "\tclassification: np.int64 = network_output.numpy()\n",
    "\tprint(f'Network output: ({type(classification)})', classification)"
   ]
  },
  {
   "attachments": {},
   "cell_type": "markdown",
   "metadata": {},
   "source": [
    "### Printing the Minimal Explanation\n",
    "\n",
    "Minimal eplanations only indicates which inputs are relevant to get to a conclusion.\n",
    "\n",
    "**Note:** The explanation happens _after_ the keras_model make its predictions."
   ]
  },
  {
   "cell_type": "code",
   "execution_count": 95,
   "metadata": {},
   "outputs": [
    {
     "name": "stdout",
     "output_type": "stream",
     "text": [
      "i = 0\n",
      "1/1 [==============================] - 0s 21ms/step\n"
     ]
    },
    {
     "data": {
      "text/plain": [
       "[docplex.mp.LinearConstraint[input1](x_0,EQ,0.6610539643406277)]"
      ]
     },
     "execution_count": 95,
     "metadata": {},
     "output_type": "execute_result"
    }
   ],
   "source": [
    "i = 0\n",
    "print('i =', i)\n",
    "network_input = data[i, :-1]\n",
    "network_input = tf.reshape(tf.constant(network_input), [1, -1])\n",
    "network_output = keras_model.predict(tf.constant(network_input))[0]\n",
    "network_output = tf.argmax(network_output)\n",
    "\n",
    "mdl_aux = mp_model.clone()\n",
    "\n",
    "minimal_explanation = get_minimal_explanation(mdl_aux, network_input, network_output, n_classes, 'fischetti', output_bounds)\n",
    "\n",
    "minimal_explanation"
   ]
  },
  {
   "attachments": {},
   "cell_type": "markdown",
   "metadata": {},
   "source": [
    "### Trying to Improve the Explanation\n",
    "\n",
    "Given a minimal explanation, can we improve it?"
   ]
  },
  {
   "attachments": {},
   "cell_type": "markdown",
   "metadata": {},
   "source": [
    "Constraints of type $x = c$ are equivalent to $x \\le c \\land x \\ge c$.\n",
    "\n",
    "Therefore, we need to substitute each $x = c$ constraint by the $x \\le c$ and $x \\ge c$ constraints.\n",
    "\n",
    "Then, we try stretching the interval by substituting $x \\le c$ by $x \\le c + \\Delta x$ and see if our prediction changes. If the prediction stays the same, then we substitue and try stretching it again. If the prediction changes, then this new interval isn't valid and we don't substitute. We found the upper bound of the interval, i.e. $x \\le c$.\n",
    "\n",
    "Then we try to stretch the interval to fin the lower bound. Analogously, We try substituting $c \\ge x$ by ????/\n",
    "\n",
    "\n",
    "We will end up with a pair of constraints the looks like $c - k_l \\cdot \\Delta{x} \\le x$ and $x \\le c + k_u \\cdot \\Delta{x}$, i.e. this pair represents $c - k_l \\cdot \\Delta{x} \\le x \\le c + k_u \\cdot \\Delta{x}$."
   ]
  },
  {
   "attachments": {},
   "cell_type": "markdown",
   "metadata": {},
   "source": [
    "### Setting Up"
   ]
  },
  {
   "cell_type": "code",
   "execution_count": 96,
   "metadata": {},
   "outputs": [],
   "source": [
    "import docplex"
   ]
  },
  {
   "cell_type": "code",
   "execution_count": 123,
   "metadata": {},
   "outputs": [],
   "source": [
    "epsilon = 0.01"
   ]
  },
  {
   "cell_type": "code",
   "execution_count": 124,
   "metadata": {},
   "outputs": [],
   "source": [
    "minimal_model = mdl_aux\n",
    "testing_model = minimal_model.clone()"
   ]
  },
  {
   "attachments": {},
   "cell_type": "markdown",
   "metadata": {},
   "source": [
    "#### Quick Sratch"
   ]
  },
  {
   "cell_type": "code",
   "execution_count": 125,
   "metadata": {},
   "outputs": [
    {
     "data": {
      "text/plain": [
       "[docplex.mp.LinearConstraint[input1](x_0,EQ,0.6610539643406277)]"
      ]
     },
     "execution_count": 125,
     "metadata": {},
     "output_type": "execute_result"
    }
   ],
   "source": [
    "linear_constraints = testing_model.find_matching_linear_constraints('input')\n",
    "linear_constraints"
   ]
  },
  {
   "cell_type": "code",
   "execution_count": 126,
   "metadata": {},
   "outputs": [],
   "source": [
    "linear_constraints = testing_model.find_matching_linear_constraints('input')\n",
    "\n",
    "for constraint in linear_constraints:\n",
    "\ttesting_model.remove_constraint(constraint)\n",
    "\ttesting_model.add_constraint(constraint.lhs <= constraint.rhs.clone(), 'input LE')\n",
    "\ttesting_model.add_constraint(constraint.lhs >= constraint.rhs.clone(), 'input GE')"
   ]
  },
  {
   "cell_type": "code",
   "execution_count": 127,
   "metadata": {},
   "outputs": [
    {
     "data": {
      "text/plain": [
       "[docplex.mp.LinearConstraint[input LE](x_0,LE,0.6610539643406277),\n",
       " docplex.mp.LinearConstraint[input GE](x_0,GE,0.6610539643406277)]"
      ]
     },
     "execution_count": 127,
     "metadata": {},
     "output_type": "execute_result"
    }
   ],
   "source": [
    "linear_constraints = testing_model.find_matching_linear_constraints('input')\n",
    "linear_constraints"
   ]
  },
  {
   "cell_type": "code",
   "execution_count": 128,
   "metadata": {},
   "outputs": [
    {
     "name": "stdout",
     "output_type": "stream",
     "text": [
      "Initial constraint:\t input LE: x_0 <= 0.6610539643406277\n",
      "j max value achieved\n",
      "Final constraint:\t input LE: x_0 <= 3.1510539643406044\n",
      "\n",
      "Initial constraint:\t input GE: x_0 >= 0.6610539643406277\n",
      "Final constraint:\t input GE: x_0 >= 0.5110539643406276\n",
      "\n"
     ]
    }
   ],
   "source": [
    "for constraint in linear_constraints:\n",
    "\ttesting_model.solve()\n",
    "\tprint('Initial constraint:' + '\\t', constraint)\n",
    "\n",
    "\tj = 0\n",
    "\twhile testing_model.solution is None:\n",
    "\t\tif constraint.sense == docplex.mp.constants.ComparisonType.LE:\n",
    "\t\t\tconstraint.rhs += epsilon\n",
    "\t\telif constraint.sense == docplex.mp.constants.ComparisonType.GE:\n",
    "\t\t\tconstraint.rhs -= epsilon\n",
    "\t\telse:\n",
    "\t\t\traise Exception('Constraint sense was neither LE nor GE')\n",
    "\n",
    "\t\ttesting_model.solve()\n",
    "\n",
    "\t\tj += 1\n",
    "\t\tif j >= 250:\n",
    "\t\t\tprint('j max value achieved')\n",
    "\t\t\tbreak\n",
    "\t\n",
    "\t# Undo last operation\n",
    "\tif constraint.sense == docplex.mp.constants.ComparisonType.LE:\n",
    "\t\tconstraint.rhs -= epsilon\n",
    "\telif constraint.sense == docplex.mp.constants.ComparisonType.GE:\n",
    "\t\tconstraint.rhs += epsilon\n",
    "\n",
    "\tprint('Final constraint:' + '\\t', constraint)\n",
    "\tprint()"
   ]
  },
  {
   "attachments": {},
   "cell_type": "markdown",
   "metadata": {},
   "source": [
    "Rewrite pair of expression of type $x \\le c$ and $x \\ge c$ to $x = c$:"
   ]
  },
  {
   "cell_type": "code",
   "execution_count": 129,
   "metadata": {},
   "outputs": [
    {
     "data": {
      "text/plain": [
       "[docplex.mp.LinearConstraint[input LE](x_0,LE,3.1510539643406044),\n",
       " docplex.mp.LinearConstraint[input GE](x_0,GE,0.5110539643406276)]"
      ]
     },
     "execution_count": 129,
     "metadata": {},
     "output_type": "execute_result"
    }
   ],
   "source": [
    "testing_model.find_matching_linear_constraints('input')"
   ]
  },
  {
   "attachments": {},
   "cell_type": "markdown",
   "metadata": {},
   "source": [
    "## Comparing with Anchor"
   ]
  },
  {
   "cell_type": "code",
   "execution_count": 130,
   "metadata": {},
   "outputs": [],
   "source": [
    "from anchor import utils"
   ]
  },
  {
   "attachments": {},
   "cell_type": "markdown",
   "metadata": {},
   "source": [
    "### Loading the Dataset"
   ]
  },
  {
   "cell_type": "code",
   "execution_count": 187,
   "metadata": {},
   "outputs": [],
   "source": [
    "d = utils.load_csv_dataset(\n",
    "\tdata=f'datasets/{dataset_name}/train.csv',\n",
    "\ttarget_idx=-1,\n",
    "\tfeature_names=['A','target'],\n",
    "\t# categorical_features=None,\n",
    "\t# features_to_use=None,\n",
    "\t# feature_transformations=None,\n",
    "\t# discretize=False,\n",
    "\t# balance=False,\n",
    "\t# fill_na='-1',\n",
    "\t# filter_fn=None,\n",
    "\tskip_first=True\n",
    ")"
   ]
  },
  {
   "attachments": {},
   "cell_type": "markdown",
   "metadata": {},
   "source": [
    "### Explainer"
   ]
  },
  {
   "cell_type": "code",
   "execution_count": 188,
   "metadata": {},
   "outputs": [],
   "source": [
    "from anchor import anchor_tabular"
   ]
  },
  {
   "cell_type": "code",
   "execution_count": 189,
   "metadata": {},
   "outputs": [],
   "source": [
    "explainer = anchor_tabular.AnchorTabularExplainer(\n",
    "    d.class_names,\n",
    "    d.feature_names,\n",
    "    d.train,\n",
    "    d.categorical_names)"
   ]
  },
  {
   "cell_type": "code",
   "execution_count": 190,
   "metadata": {},
   "outputs": [
    {
     "name": "stdout",
     "output_type": "stream",
     "text": [
      "1/1 [==============================] - 0s 19ms/step\n"
     ]
    },
    {
     "data": {
      "text/plain": [
       "array([0])"
      ]
     },
     "execution_count": 190,
     "metadata": {},
     "output_type": "execute_result"
    }
   ],
   "source": [
    "x = d.test[0].reshape(1, -1)\n",
    "tf.argmax(keras_model.predict(tf.constant(x))[0]).numpy().reshape(1)"
   ]
  },
  {
   "cell_type": "code",
   "execution_count": 191,
   "metadata": {},
   "outputs": [
    {
     "name": "stdout",
     "output_type": "stream",
     "text": [
      "1/1 [==============================] - 0s 20ms/step\n"
     ]
    },
    {
     "data": {
      "text/plain": [
       "array([0])"
      ]
     },
     "execution_count": 191,
     "metadata": {},
     "output_type": "execute_result"
    }
   ],
   "source": [
    "tf.argmax(keras_model.predict(tf.reshape(tf.constant(x), [1, -1]))[0]).numpy().reshape(1)"
   ]
  },
  {
   "cell_type": "code",
   "execution_count": 192,
   "metadata": {},
   "outputs": [],
   "source": [
    "predict_fn = lambda x: tf.argmax(keras_model.predict(x)[0]).numpy().reshape(1)"
   ]
  },
  {
   "cell_type": "code",
   "execution_count": 193,
   "metadata": {},
   "outputs": [
    {
     "name": "stdout",
     "output_type": "stream",
     "text": [
      "1/1 [==============================] - 0s 25ms/step\n"
     ]
    },
    {
     "data": {
      "text/plain": [
       "b'0'"
      ]
     },
     "execution_count": 193,
     "metadata": {},
     "output_type": "execute_result"
    }
   ],
   "source": [
    "explainer.class_names[predict_fn(d.test[0].reshape(1, -1))[0]]"
   ]
  },
  {
   "cell_type": "code",
   "execution_count": 213,
   "metadata": {},
   "outputs": [
    {
     "name": "stdout",
     "output_type": "stream",
     "text": [
      "1/1 [==============================] - 0s 30ms/step\n"
     ]
    },
    {
     "data": {
      "text/plain": [
       "array([[0.9493827 , 0.05061728],\n",
       "       [0.9489833 , 0.05101658],\n",
       "       [0.94304633, 0.05695375],\n",
       "       [0.94760936, 0.05239061],\n",
       "       [0.26285228, 0.7371477 ],\n",
       "       [0.04095571, 0.9590443 ],\n",
       "       [0.11532225, 0.88467765],\n",
       "       [0.89140314, 0.10859686],\n",
       "       [0.29778376, 0.70221627],\n",
       "       [0.7302323 , 0.26976767]], dtype=float32)"
      ]
     },
     "execution_count": 213,
     "metadata": {},
     "output_type": "execute_result"
    }
   ],
   "source": [
    "keras_model.predict(d.test)"
   ]
  },
  {
   "cell_type": "code",
   "execution_count": 195,
   "metadata": {},
   "outputs": [
    {
     "name": "stdout",
     "output_type": "stream",
     "text": [
      "1/1 [==============================] - 0s 23ms/step\n"
     ]
    },
    {
     "data": {
      "text/plain": [
       "<tf.Tensor: shape=(2,), dtype=int64, numpy=array([0, 5])>"
      ]
     },
     "execution_count": 195,
     "metadata": {},
     "output_type": "execute_result"
    }
   ],
   "source": [
    "tf.argmax(keras_model.predict(d.test))"
   ]
  },
  {
   "cell_type": "code",
   "execution_count": 326,
   "metadata": {},
   "outputs": [
    {
     "data": {
      "text/plain": [
       "array([0.39925284])"
      ]
     },
     "execution_count": 326,
     "metadata": {},
     "output_type": "execute_result"
    }
   ],
   "source": [
    "d.train[2]"
   ]
  },
  {
   "cell_type": "code",
   "execution_count": 347,
   "metadata": {},
   "outputs": [
    {
     "name": "stdout",
     "output_type": "stream",
     "text": [
      "1/1 [==============================] - 0s 19ms/step\n",
      "1/1 [==============================] - 0s 20ms/step\n",
      "1/1 [==============================] - 0s 19ms/step\n",
      "4/4 [==============================] - 0s 1ms/step\n",
      "4/4 [==============================] - 0s 1ms/step\n",
      "4/4 [==============================] - 0s 1ms/step\n",
      "4/4 [==============================] - 0s 1ms/step\n",
      "4/4 [==============================] - 0s 1ms/step\n",
      "4/4 [==============================] - 0s 1ms/step\n",
      "4/4 [==============================] - 0s 1ms/step\n",
      "4/4 [==============================] - 0s 1ms/step\n",
      "4/4 [==============================] - 0s 1ms/step\n",
      "4/4 [==============================] - 0s 2ms/step\n",
      "1/1 [==============================] - 0s 19ms/step\n"
     ]
    }
   ],
   "source": [
    "exp = explainer.explain_instance(\n",
    "\td.train[2],\n",
    "\tpredict_fn\n",
    ")"
   ]
  },
  {
   "cell_type": "code",
   "execution_count": 348,
   "metadata": {},
   "outputs": [
    {
     "data": {
      "text/plain": [
       "['0.39 < A <= 0.72']"
      ]
     },
     "execution_count": 348,
     "metadata": {},
     "output_type": "execute_result"
    }
   ],
   "source": [
    "exp.names()"
   ]
  },
  {
   "cell_type": "code",
   "execution_count": 349,
   "metadata": {},
   "outputs": [
    {
     "data": {
      "text/plain": [
       "0.8153846153846154"
      ]
     },
     "execution_count": 349,
     "metadata": {},
     "output_type": "execute_result"
    }
   ],
   "source": [
    "exp.precision()"
   ]
  },
  {
   "cell_type": "code",
   "execution_count": 350,
   "metadata": {},
   "outputs": [
    {
     "data": {
      "text/plain": [
       "0.2587"
      ]
     },
     "execution_count": 350,
     "metadata": {},
     "output_type": "execute_result"
    }
   ],
   "source": [
    "exp.coverage()"
   ]
  }
 ],
 "metadata": {
  "kernelspec": {
   "display_name": "venv",
   "language": "python",
   "name": "python3"
  },
  "language_info": {
   "codemirror_mode": {
    "name": "ipython",
    "version": 3
   },
   "file_extension": ".py",
   "mimetype": "text/x-python",
   "name": "python",
   "nbconvert_exporter": "python",
   "pygments_lexer": "ipython3",
   "version": "3.10.7"
  },
  "orig_nbformat": 4,
  "vscode": {
   "interpreter": {
    "hash": "94856992579206d4c5c2d2f52c2407bb11394cd820c2ebd327ab285264c6684a"
   }
  }
 },
 "nbformat": 4,
 "nbformat_minor": 2
}
