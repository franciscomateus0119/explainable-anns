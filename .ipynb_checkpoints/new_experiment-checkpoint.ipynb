{
 "cells": [
  {
   "cell_type": "markdown",
   "metadata": {},
   "source": [
    "# Experiments"
   ]
  },
  {
   "cell_type": "code",
   "execution_count": null,
   "metadata": {},
   "outputs": [],
   "source": [
    "#!pip install tensorflow==2.10.0\n",
    "#!pip install docplex\n",
    "#!pip install cplex"
   ]
  },
  {
   "cell_type": "code",
   "execution_count": 1,
   "metadata": {},
   "outputs": [
    {
     "name": "stderr",
     "output_type": "stream",
     "text": [
      "2023-06-01 17:32:30.338645: I tensorflow/core/platform/cpu_feature_guard.cc:193] This TensorFlow binary is optimized with oneAPI Deep Neural Network Library (oneDNN) to use the following CPU instructions in performance-critical operations:  AVX2 FMA\n",
      "To enable them in other operations, rebuild TensorFlow with the appropriate compiler flags.\n",
      "2023-06-01 17:32:30.564786: W tensorflow/stream_executor/platform/default/dso_loader.cc:64] Could not load dynamic library 'libcudart.so.11.0'; dlerror: libcudart.so.11.0: cannot open shared object file: No such file or directory\n",
      "2023-06-01 17:32:30.564801: I tensorflow/stream_executor/cuda/cudart_stub.cc:29] Ignore above cudart dlerror if you do not have a GPU set up on your machine.\n",
      "2023-06-01 17:32:30.592120: E tensorflow/stream_executor/cuda/cuda_blas.cc:2981] Unable to register cuBLAS factory: Attempting to register factory for plugin cuBLAS when one has already been registered\n",
      "2023-06-01 17:32:31.581744: W tensorflow/stream_executor/platform/default/dso_loader.cc:64] Could not load dynamic library 'libnvinfer.so.7'; dlerror: libnvinfer.so.7: cannot open shared object file: No such file or directory\n",
      "2023-06-01 17:32:31.581853: W tensorflow/stream_executor/platform/default/dso_loader.cc:64] Could not load dynamic library 'libnvinfer_plugin.so.7'; dlerror: libnvinfer_plugin.so.7: cannot open shared object file: No such file or directory\n",
      "2023-06-01 17:32:31.581861: W tensorflow/compiler/tf2tensorrt/utils/py_utils.cc:38] TF-TRT Warning: Cannot dlopen some TensorRT libraries. If you would like to use Nvidia GPU with TensorRT, please make sure the missing libraries mentioned above are installed properly.\n"
     ]
    }
   ],
   "source": [
    "import pandas as pd\n",
    "import tensorflow as tf\n",
    "\n",
    "from milp import codify_network\n",
    "from teste import get_minimal_explanation\n",
    "\n",
    "# For type annotations\n",
    "import numpy as np"
   ]
  },
  {
   "cell_type": "markdown",
   "metadata": {},
   "source": [
    "## Glass"
   ]
  },
  {
   "cell_type": "code",
   "execution_count": 2,
   "metadata": {},
   "outputs": [
    {
     "name": "stderr",
     "output_type": "stream",
     "text": [
      "2023-06-01 17:32:32.840966: I tensorflow/stream_executor/cuda/cuda_gpu_executor.cc:980] successful NUMA node read from SysFS had negative value (-1), but there must be at least one NUMA node, so returning NUMA node zero\n",
      "2023-06-01 17:32:32.841197: W tensorflow/stream_executor/platform/default/dso_loader.cc:64] Could not load dynamic library 'libcudart.so.11.0'; dlerror: libcudart.so.11.0: cannot open shared object file: No such file or directory\n",
      "2023-06-01 17:32:32.841260: W tensorflow/stream_executor/platform/default/dso_loader.cc:64] Could not load dynamic library 'libcublas.so.11'; dlerror: libcublas.so.11: cannot open shared object file: No such file or directory\n",
      "2023-06-01 17:32:32.841314: W tensorflow/stream_executor/platform/default/dso_loader.cc:64] Could not load dynamic library 'libcublasLt.so.11'; dlerror: libcublasLt.so.11: cannot open shared object file: No such file or directory\n",
      "2023-06-01 17:32:32.841367: W tensorflow/stream_executor/platform/default/dso_loader.cc:64] Could not load dynamic library 'libcufft.so.10'; dlerror: libcufft.so.10: cannot open shared object file: No such file or directory\n",
      "2023-06-01 17:32:32.841419: W tensorflow/stream_executor/platform/default/dso_loader.cc:64] Could not load dynamic library 'libcurand.so.10'; dlerror: libcurand.so.10: cannot open shared object file: No such file or directory\n",
      "2023-06-01 17:32:32.841471: W tensorflow/stream_executor/platform/default/dso_loader.cc:64] Could not load dynamic library 'libcusolver.so.11'; dlerror: libcusolver.so.11: cannot open shared object file: No such file or directory\n",
      "2023-06-01 17:32:32.841522: W tensorflow/stream_executor/platform/default/dso_loader.cc:64] Could not load dynamic library 'libcusparse.so.11'; dlerror: libcusparse.so.11: cannot open shared object file: No such file or directory\n",
      "2023-06-01 17:32:32.841575: W tensorflow/stream_executor/platform/default/dso_loader.cc:64] Could not load dynamic library 'libcudnn.so.8'; dlerror: libcudnn.so.8: cannot open shared object file: No such file or directory\n",
      "2023-06-01 17:32:32.841582: W tensorflow/core/common_runtime/gpu/gpu_device.cc:1934] Cannot dlopen some GPU libraries. Please make sure the missing libraries mentioned above are installed properly if you would like to use GPU. Follow the guide at https://www.tensorflow.org/install/gpu for how to download and setup the required libraries for your platform.\n",
      "Skipping registering GPU devices...\n",
      "2023-06-01 17:32:32.843670: I tensorflow/core/platform/cpu_feature_guard.cc:193] This TensorFlow binary is optimized with oneAPI Deep Neural Network Library (oneDNN) to use the following CPU instructions in performance-critical operations:  AVX2 FMA\n",
      "To enable them in other operations, rebuild TensorFlow with the appropriate compiler flags.\n"
     ]
    }
   ],
   "source": [
    "dataset_name = 'glass'\n",
    "\n",
    "training_data = pd.read_csv(f'datasets/{dataset_name}/train.csv')\n",
    "testing_data = pd.read_csv(f'datasets/{dataset_name}/test.csv')\n",
    "\n",
    "dataframe = pd.concat([training_data, testing_data])\n",
    "\n",
    "keras_model = tf.keras.models.load_model(f'datasets/{dataset_name}/model_2layers_{dataset_name}.h5')\n",
    "\n",
    "data = dataframe.to_numpy()\n",
    "n_classes = dataframe['target'].nunique()"
   ]
  },
  {
   "cell_type": "code",
   "execution_count": 3,
   "metadata": {},
   "outputs": [],
   "source": [
    "mp_model, output_bounds = codify_network(keras_model, dataframe, 'fischetti', relax_constraints=False)"
   ]
  },
  {
   "cell_type": "markdown",
   "metadata": {},
   "source": [
    "TODO: Get random `i`"
   ]
  },
  {
   "cell_type": "code",
   "execution_count": 4,
   "metadata": {},
   "outputs": [
    {
     "name": "stdout",
     "output_type": "stream",
     "text": [
      "i = 138\n",
      "1/1 [==============================] - 0s 159ms/step\n",
      "1/1 [==============================] - 0s 27ms/step\n",
      "Predictions: (ndarray[ndarray[<class 'numpy.float32'>]]) 0.0007575714\n",
      "Network output: (<class 'numpy.int64'>) 1\n"
     ]
    }
   ],
   "source": [
    "# i = 134 is also a nice value to study\n",
    "i = 138\n",
    "print('i =', i)\n",
    "network_input = data[i, :-1]\n",
    "network_input = tf.reshape(tf.constant(network_input), [1, -1])\n",
    "network_output = keras_model.predict(tf.constant(network_input))[0]\n",
    "network_output = tf.argmax(network_output)\n",
    "\n",
    "predictions = keras_model.predict(tf.constant(network_input))[0, 0]\n",
    "\n",
    "print(f'Predictions: (ndarray[ndarray[{type(predictions)}]])', predictions)\n",
    "classification: np.int64 = network_output.numpy()\n",
    "print(f'Network output: ({type(classification)})', classification)"
   ]
  },
  {
   "cell_type": "code",
   "execution_count": 5,
   "metadata": {},
   "outputs": [
    {
     "data": {
      "text/plain": [
       "[docplex.mp.LinearConstraint[input1](x_0,EQ,2.967691214515491),\n",
       " docplex.mp.LinearConstraint[input4](x_3,EQ,-1.408120229258977),\n",
       " docplex.mp.LinearConstraint[input6](x_5,EQ,-0.790702170757714),\n",
       " docplex.mp.LinearConstraint[input7](x_6,EQ,4.24127975754059),\n",
       " docplex.mp.LinearConstraint[input8](x_7,EQ,-0.3615292659832898),\n",
       " docplex.mp.LinearConstraint[input9](x_8,EQ,-0.6037614142464092)]"
      ]
     },
     "execution_count": 5,
     "metadata": {},
     "output_type": "execute_result"
    }
   ],
   "source": [
    "mdl_aux = mp_model.clone()\n",
    "\n",
    "minimal_explanation = get_minimal_explanation(mdl_aux, network_input, network_output, n_classes, 'fischetti', output_bounds)\n",
    "minimal_explanation"
   ]
  },
  {
   "cell_type": "markdown",
   "metadata": {},
   "source": [
    "### Improving the Explanation"
   ]
  },
  {
   "cell_type": "code",
   "execution_count": null,
   "metadata": {},
   "outputs": [],
   "source": [
    "import docplex"
   ]
  },
  {
   "cell_type": "code",
   "execution_count": null,
   "metadata": {},
   "outputs": [],
   "source": [
    "minimal_model = mdl_aux\n",
    "testing_model = minimal_model.clone()"
   ]
  },
  {
   "cell_type": "code",
   "execution_count": null,
   "metadata": {},
   "outputs": [],
   "source": [
    "linear_constraints = testing_model.find_matching_linear_constraints('input')\n",
    "linear_constraints"
   ]
  },
  {
   "cell_type": "code",
   "execution_count": null,
   "metadata": {},
   "outputs": [],
   "source": [
    "linear_constraints = testing_model.find_matching_linear_constraints('input')\n",
    "\n",
    "for constraint in linear_constraints:\n",
    "\ttesting_model.remove_constraint(constraint)\n",
    "\ttesting_model.add_constraint(constraint.lhs <= constraint.rhs.clone(), 'input LE')\n",
    "\ttesting_model.add_constraint(constraint.lhs >= constraint.rhs.clone(), 'input GE')"
   ]
  },
  {
   "cell_type": "code",
   "execution_count": null,
   "metadata": {},
   "outputs": [],
   "source": [
    "linear_constraints = testing_model.find_matching_linear_constraints('input')\n",
    "linear_constraints"
   ]
  },
  {
   "cell_type": "code",
   "execution_count": null,
   "metadata": {},
   "outputs": [],
   "source": [
    "def log_and_improve_explanation(minimal_explanation: list, epsilon: float):\n",
    "\tfor constraint in minimal_explanation:\n",
    "\t\ttesting_model.solve()\n",
    "\t\tprint('Initial constraint:' + '\\t', constraint)\n",
    "\n",
    "\t\tvariable = constraint.lhs\n",
    "\t\twhile testing_model.solution is None:\n",
    "\t\t\tif constraint.sense == docplex.mp.constants.ComparisonType.LE:\n",
    "\t\t\t\tif constraint.rhs.constant <= variable.ub:\n",
    "\t\t\t\t\tconstraint.rhs += epsilon\n",
    "\t\t\t\telse:\n",
    "\t\t\t\t\tbreak\n",
    "\t\t\telif constraint.sense == docplex.mp.constants.ComparisonType.GE:\n",
    "\t\t\t\tif constraint.rhs.constant >= variable.lb:\n",
    "\t\t\t\t\tconstraint.rhs -= epsilon\n",
    "\t\t\t\telse:\n",
    "\t\t\t\t\tbreak\n",
    "\t\t\telse:\n",
    "\t\t\t\traise Exception('Constraint sense was neither LE nor GE')\n",
    "\n",
    "\t\t\ttesting_model.solve()\n",
    "\n",
    "\t\t# Undo last operation\n",
    "\t\tif constraint.sense == docplex.mp.constants.ComparisonType.LE:\n",
    "\t\t\tconstraint.rhs -= epsilon\n",
    "\t\telif constraint.sense == docplex.mp.constants.ComparisonType.GE:\n",
    "\t\t\tconstraint.rhs += epsilon\n",
    "\n",
    "\t\tprint('Final constraint:' + '\\t', constraint)\n",
    "\t\tprint()"
   ]
  },
  {
   "cell_type": "code",
   "execution_count": null,
   "metadata": {},
   "outputs": [],
   "source": [
    "log_and_improve_explanation(linear_constraints, epsilon=0.01)"
   ]
  },
  {
   "cell_type": "code",
   "execution_count": null,
   "metadata": {},
   "outputs": [],
   "source": [
    "linear_constraints = testing_model.find_matching_linear_constraints('input')\n",
    "linear_constraints"
   ]
  },
  {
   "cell_type": "code",
   "execution_count": null,
   "metadata": {},
   "outputs": [],
   "source": [
    "number_of_inputs = len(dataframe.columns.drop('target'))\n",
    "for i in range(number_of_inputs):\n",
    "\tconstraints_of_x_i = filter(lambda x: x.lhs.name == f'x_{i}', linear_constraints)\n",
    "\tconstraints = [c for c in constraints_of_x_i]\n",
    "\n",
    "\tif len(constraints) == 2:\n",
    "\t\tif constraints[0].rhs.constant == constraints[1].rhs.constant:\n",
    "\t\t\ttesting_model.remove_constraints(constraints)\n",
    "\t\t\ttesting_model.add_constraint(constraints[0].lhs == constraints[0].rhs, 'input')"
   ]
  },
  {
   "cell_type": "code",
   "execution_count": null,
   "metadata": {},
   "outputs": [],
   "source": [
    "improved_explanation = testing_model.find_matching_linear_constraints('input')\n",
    "improved_explanation"
   ]
  },
  {
   "cell_type": "markdown",
   "metadata": {},
   "source": [
    "### Pretty Printing"
   ]
  },
  {
   "cell_type": "code",
   "execution_count": null,
   "metadata": {},
   "outputs": [],
   "source": [
    "def get_variable_index(variable: docplex.mp.dvar.Var) -> int:\n",
    "\tindex = variable.name.split('_')[1]\n",
    "\treturn int(index)"
   ]
  },
  {
   "cell_type": "code",
   "execution_count": null,
   "metadata": {},
   "outputs": [],
   "source": [
    "def represent_constraint_with_feature_name(constraint: docplex.mp.constr.LinearConstraint):\n",
    "\tvariable = constraint.lhs\n",
    "\tindex = get_variable_index(variable)\n",
    "\tfeature_name = dataframe.columns[index]\n",
    "\treturn f'{feature_name} {constraint.sense.operator_symbol} {constraint.rhs}'"
   ]
  },
  {
   "cell_type": "code",
   "execution_count": null,
   "metadata": {},
   "outputs": [],
   "source": [
    "def simple_print_explanation(explanation: list[docplex.mp.constr.LinearConstraint]):\n",
    "\tfor e in explanation:\n",
    "\t\tprint(represent_constraint_with_feature_name(e))"
   ]
  },
  {
   "cell_type": "code",
   "execution_count": null,
   "metadata": {},
   "outputs": [],
   "source": [
    "def group_by_name(constraints: list[docplex.mp.constr.LinearConstraint]):\n",
    "\tgroup = {}\n",
    "\tfor c in constraints:\n",
    "\t\tvariable = c.lhs\n",
    "\t\ti = get_variable_index(variable)\n",
    "\t\tfeature_name = dataframe.columns[i]\n",
    "\t\tif feature_name not in group:\n",
    "\t\t\tgroup[feature_name] = []\n",
    "\t\tgroup[feature_name].append(c)\n",
    "\n",
    "\treturn group"
   ]
  },
  {
   "cell_type": "code",
   "execution_count": null,
   "metadata": {},
   "outputs": [],
   "source": [
    "def get_interval_distance(constraints: list[docplex.mp.constr.LinearConstraint]):\n",
    "\tif len(constraints) == 1:\n",
    "\t\treturn 0\n",
    "\telif len(constraints) == 2:\n",
    "\t\tc_0 = constraints[0]\n",
    "\t\tc_1 = constraints[1]\n",
    "\t\tassert c_0.lhs.name == c_1.lhs.name\n",
    "\t\tdistance = c_0.rhs.constant - c_1.rhs.constant\n",
    "\t\treturn abs(distance)\n",
    "\telse:\n",
    "\t\tValueError()"
   ]
  },
  {
   "cell_type": "code",
   "execution_count": null,
   "metadata": {},
   "outputs": [],
   "source": [
    "def pretty_print_explanation(explanation: list[docplex.mp.constr.LinearConstraint]):\n",
    "\tgroup = group_by_name(improved_explanation)\n",
    "\tfor (feature, constraints) in group.items():\n",
    "\t\tif len(constraints) == 2:\n",
    "\t\t\tc_0 = constraints[0]\n",
    "\t\t\tc_1 = constraints[1]\n",
    "\t\t\tle_operator = docplex.mp.constants.ComparisonType.LE\n",
    "\t\t\tif c_0.sense == le_operator:\n",
    "\t\t\t\tc_plus = c_0\n",
    "\t\t\t\tc_minus = c_1\n",
    "\t\t\telse:\n",
    "\t\t\t\tc_minus = c_0\n",
    "\t\t\t\tc_plus = c_1\n",
    "\t\t\tprint(f'{c_minus.rhs} {le_operator.operator_symbol} {feature} {le_operator.operator_symbol} {c_plus.rhs}')\n",
    "\t\telse:\n",
    "\t\t\tprint(represent_constraint_with_feature_name(constraints[0]))"
   ]
  },
  {
   "cell_type": "code",
   "execution_count": null,
   "metadata": {},
   "outputs": [],
   "source": [
    "pretty_print_explanation(improved_explanation)"
   ]
  },
  {
   "cell_type": "code",
   "execution_count": null,
   "metadata": {},
   "outputs": [],
   "source": [
    "group = group_by_name(improved_explanation)\n",
    "for feature in group:\n",
    "\tprint(get_interval_distance(group[feature]))"
   ]
  },
  {
   "cell_type": "markdown",
   "metadata": {},
   "source": [
    "### Anchor"
   ]
  },
  {
   "cell_type": "code",
   "execution_count": null,
   "metadata": {},
   "outputs": [],
   "source": [
    "from anchor import utils"
   ]
  },
  {
   "cell_type": "code",
   "execution_count": null,
   "metadata": {},
   "outputs": [],
   "source": [
    "d = utils.load_csv_dataset(\n",
    "\tdata=f'datasets/{dataset_name}/test.csv',\n",
    "\ttarget_idx=-1,\n",
    "\tfeature_names=['RI','Na','Mg','Al','Si','K','Ca','Ba','Fe','target'],\n",
    "\tskip_first=True\n",
    ")"
   ]
  },
  {
   "cell_type": "code",
   "execution_count": null,
   "metadata": {},
   "outputs": [],
   "source": [
    "from anchor import anchor_tabular"
   ]
  },
  {
   "cell_type": "code",
   "execution_count": null,
   "metadata": {},
   "outputs": [],
   "source": [
    "explainer = anchor_tabular.AnchorTabularExplainer(\n",
    "\td.class_names,\n",
    "\td.feature_names,\n",
    "\td.train,\n",
    "\td.categorical_names)"
   ]
  },
  {
   "cell_type": "code",
   "execution_count": null,
   "metadata": {},
   "outputs": [],
   "source": [
    "predict_fn = lambda x: tf.argmax(keras_model.predict(x)[0]).numpy().reshape(1)"
   ]
  },
  {
   "cell_type": "code",
   "execution_count": null,
   "metadata": {},
   "outputs": [],
   "source": [
    "for a in d.train:\n",
    "\ta == data[i]"
   ]
  },
  {
   "cell_type": "code",
   "execution_count": null,
   "metadata": {},
   "outputs": [],
   "source": [
    "exp = explainer.explain_instance(data[i, :-1], predict_fn)"
   ]
  },
  {
   "cell_type": "code",
   "execution_count": null,
   "metadata": {},
   "outputs": [],
   "source": [
    "for name in exp.names():\n",
    "\tprint(name)"
   ]
  },
  {
   "cell_type": "code",
   "execution_count": null,
   "metadata": {},
   "outputs": [],
   "source": [
    "pretty_print_explanation(improved_explanation)"
   ]
  },
  {
   "cell_type": "code",
   "execution_count": null,
   "metadata": {},
   "outputs": [],
   "source": [
    "simple_print_explanation(improved_explanation)"
   ]
  },
  {
   "cell_type": "code",
   "execution_count": null,
   "metadata": {},
   "outputs": [],
   "source": [
    "print('Precision: %f' % exp.precision())\n",
    "print('Coverage:  %f' % exp.coverage())"
   ]
  },
  {
   "cell_type": "markdown",
   "metadata": {},
   "source": [
    "## Australian"
   ]
  },
  {
   "cell_type": "markdown",
   "metadata": {},
   "source": [
    "## Glass"
   ]
  },
  {
   "cell_type": "code",
   "execution_count": null,
   "metadata": {},
   "outputs": [],
   "source": [
    "dataset_name = 'australian'\n",
    "\n",
    "training_data = pd.read_csv(f'datasets/{dataset_name}/train.csv')\n",
    "testing_data = pd.read_csv(f'datasets/{dataset_name}/test.csv')\n",
    "\n",
    "dataframe = pd.concat([training_data, testing_data])\n",
    "\n",
    "keras_model = tf.keras.models.load_model(f'datasets/{dataset_name}/model_4layers_{dataset_name}.h5')\n",
    "\n",
    "data = dataframe.to_numpy()\n",
    "n_classes = dataframe['target'].nunique()"
   ]
  },
  {
   "cell_type": "code",
   "execution_count": null,
   "metadata": {},
   "outputs": [],
   "source": [
    "mp_model, output_bounds = codify_network(keras_model, dataframe, 'fischetti', relax_constraints=False)"
   ]
  },
  {
   "cell_type": "markdown",
   "metadata": {},
   "source": [
    "TODO: Get random `i`"
   ]
  },
  {
   "cell_type": "code",
   "execution_count": null,
   "metadata": {},
   "outputs": [],
   "source": [
    "# i = 134 is also a nice value to study\n",
    "i = 138\n",
    "print('i =', i)\n",
    "network_input = data[i, :-1]\n",
    "network_input = tf.reshape(tf.constant(network_input), [1, -1])\n",
    "network_output = keras_model.predict(tf.constant(network_input))[0]\n",
    "network_output = tf.argmax(network_output)\n",
    "\n",
    "predictions = keras_model.predict(tf.constant(network_input))[0, 0]\n",
    "\n",
    "print(f'Predictions: (ndarray[ndarray[{type(predictions)}]])', predictions)\n",
    "classification: np.int64 = network_output.numpy()\n",
    "print(f'Network output: ({type(classification)})', classification)"
   ]
  },
  {
   "cell_type": "code",
   "execution_count": 38,
   "metadata": {},
   "outputs": [
    {
     "data": {
      "text/plain": [
       "[docplex.mp.LinearConstraint[input5](x_4,EQ,1.528974678604176),\n",
       " docplex.mp.LinearConstraint[input8](x_7,EQ,1.0),\n",
       " docplex.mp.LinearConstraint[input11](x_10,EQ,0),\n",
       " docplex.mp.LinearConstraint[input12](x_11,EQ,2.0),\n",
       " docplex.mp.LinearConstraint[input13](x_12,EQ,-1.0696373068996796)]"
      ]
     },
     "execution_count": 38,
     "metadata": {},
     "output_type": "execute_result"
    }
   ],
   "source": [
    "mdl_aux = mp_model.clone()\n",
    "\n",
    "minimal_explanation = get_minimal_explanation(mdl_aux, network_input, network_output, n_classes, 'fischetti', output_bounds)\n",
    "minimal_explanation"
   ]
  },
  {
   "cell_type": "markdown",
   "metadata": {},
   "source": [
    "### Improving the Explanation"
   ]
  },
  {
   "cell_type": "code",
   "execution_count": 39,
   "metadata": {},
   "outputs": [],
   "source": [
    "minimal_model = mdl_aux\n",
    "testing_model = minimal_model.clone()"
   ]
  },
  {
   "cell_type": "code",
   "execution_count": 40,
   "metadata": {},
   "outputs": [
    {
     "data": {
      "text/plain": [
       "[docplex.mp.LinearConstraint[input5](x_4,EQ,1.528974678604176),\n",
       " docplex.mp.LinearConstraint[input8](x_7,EQ,1.0),\n",
       " docplex.mp.LinearConstraint[input11](x_10,EQ,0),\n",
       " docplex.mp.LinearConstraint[input12](x_11,EQ,2.0),\n",
       " docplex.mp.LinearConstraint[input13](x_12,EQ,-1.0696373068996796)]"
      ]
     },
     "execution_count": 40,
     "metadata": {},
     "output_type": "execute_result"
    }
   ],
   "source": [
    "linear_constraints = testing_model.find_matching_linear_constraints('input')\n",
    "linear_constraints"
   ]
  },
  {
   "cell_type": "code",
   "execution_count": 41,
   "metadata": {},
   "outputs": [],
   "source": [
    "linear_constraints = testing_model.find_matching_linear_constraints('input')\n",
    "\n",
    "for constraint in linear_constraints:\n",
    "\ttesting_model.remove_constraint(constraint)\n",
    "\ttesting_model.add_constraint(constraint.lhs <= constraint.rhs.clone(), 'input LE')\n",
    "\ttesting_model.add_constraint(constraint.lhs >= constraint.rhs.clone(), 'input GE')"
   ]
  },
  {
   "cell_type": "code",
   "execution_count": 42,
   "metadata": {},
   "outputs": [
    {
     "data": {
      "text/plain": [
       "[docplex.mp.LinearConstraint[input LE](x_4,LE,1.528974678604176),\n",
       " docplex.mp.LinearConstraint[input GE](x_4,GE,1.528974678604176),\n",
       " docplex.mp.LinearConstraint[input LE](x_7,LE,1.0),\n",
       " docplex.mp.LinearConstraint[input GE](x_7,GE,1.0),\n",
       " docplex.mp.LinearConstraint[input LE](x_10,LE,0),\n",
       " docplex.mp.LinearConstraint[input GE](x_10,GE,0),\n",
       " docplex.mp.LinearConstraint[input LE](x_11,LE,2.0),\n",
       " docplex.mp.LinearConstraint[input GE](x_11,GE,2.0),\n",
       " docplex.mp.LinearConstraint[input LE](x_12,LE,-1.0696373068996796),\n",
       " docplex.mp.LinearConstraint[input GE](x_12,GE,-1.0696373068996796)]"
      ]
     },
     "execution_count": 42,
     "metadata": {},
     "output_type": "execute_result"
    }
   ],
   "source": [
    "linear_constraints = testing_model.find_matching_linear_constraints('input')\n",
    "linear_constraints"
   ]
  },
  {
   "cell_type": "code",
   "execution_count": 43,
   "metadata": {},
   "outputs": [],
   "source": [
    "def log_and_improve_explanation(minimal_explanation: list, epsilon: float):\n",
    "\tfor constraint in minimal_explanation:\n",
    "\t\ttesting_model.solve()\n",
    "\t\tprint('Initial constraint:' + '\\t', constraint)\n",
    "\n",
    "\t\tvariable = constraint.lhs\n",
    "\t\twhile testing_model.solution is None:\n",
    "\t\t\tif constraint.sense == docplex.mp.constants.ComparisonType.LE:\n",
    "\t\t\t\tif constraint.rhs.constant <= variable.ub:\n",
    "\t\t\t\t\tconstraint.rhs += epsilon\n",
    "\t\t\t\telse:\n",
    "\t\t\t\t\tbreak\n",
    "\t\t\telif constraint.sense == docplex.mp.constants.ComparisonType.GE:\n",
    "\t\t\t\tif constraint.rhs.constant >= variable.lb:\n",
    "\t\t\t\t\tconstraint.rhs -= epsilon\n",
    "\t\t\t\telse:\n",
    "\t\t\t\t\tbreak\n",
    "\t\t\telse:\n",
    "\t\t\t\traise Exception('Constraint sense was neither LE nor GE')\n",
    "\n",
    "\t\t\ttesting_model.solve()\n",
    "\n",
    "\t\t# Undo last operation\n",
    "\t\tif constraint.sense == docplex.mp.constants.ComparisonType.LE:\n",
    "\t\t\tconstraint.rhs -= epsilon\n",
    "\t\telif constraint.sense == docplex.mp.constants.ComparisonType.GE:\n",
    "\t\t\tconstraint.rhs += epsilon\n",
    "\n",
    "\t\tprint('Final constraint:' + '\\t', constraint)\n",
    "\t\tprint()"
   ]
  },
  {
   "cell_type": "code",
   "execution_count": null,
   "metadata": {},
   "outputs": [
    {
     "name": "stdout",
     "output_type": "stream",
     "text": [
      "Initial constraint:\t input LE: x_4 <= 1.528974678604176\n"
     ]
    }
   ],
   "source": [
    "log_and_improve_explanation(linear_constraints, epsilon=0.01)"
   ]
  },
  {
   "cell_type": "code",
   "execution_count": null,
   "metadata": {},
   "outputs": [],
   "source": [
    "linear_constraints = testing_model.find_matching_linear_constraints('input')\n",
    "linear_constraints"
   ]
  },
  {
   "cell_type": "code",
   "execution_count": null,
   "metadata": {},
   "outputs": [],
   "source": [
    "number_of_inputs = len(dataframe.columns.drop('target'))\n",
    "for i in range(number_of_inputs):\n",
    "\tconstraints_of_x_i = filter(lambda x: x.lhs.name == f'x_{i}', linear_constraints)\n",
    "\tconstraints = [c for c in constraints_of_x_i]\n",
    "\n",
    "\tif len(constraints) == 2:\n",
    "\t\tif constraints[0].rhs.constant == constraints[1].rhs.constant:\n",
    "\t\t\ttesting_model.remove_constraints(constraints)\n",
    "\t\t\ttesting_model.add_constraint(constraints[0].lhs == constraints[0].rhs, 'input')"
   ]
  },
  {
   "cell_type": "code",
   "execution_count": null,
   "metadata": {},
   "outputs": [],
   "source": [
    "improved_explanation = testing_model.find_matching_linear_constraints('input')\n",
    "improved_explanation"
   ]
  },
  {
   "cell_type": "markdown",
   "metadata": {},
   "source": [
    "### Pretty Printing"
   ]
  },
  {
   "cell_type": "code",
   "execution_count": null,
   "metadata": {},
   "outputs": [],
   "source": [
    "def get_variable_index(variable: docplex.mp.dvar.Var) -> int:\n",
    "\tindex = variable.name.split('_')[1]\n",
    "\treturn int(index)"
   ]
  },
  {
   "cell_type": "code",
   "execution_count": null,
   "metadata": {},
   "outputs": [],
   "source": [
    "def represent_constraint_with_feature_name(constraint: docplex.mp.constr.LinearConstraint):\n",
    "\tvariable = constraint.lhs\n",
    "\tindex = get_variable_index(variable)\n",
    "\tfeature_name = dataframe.columns[index]\n",
    "\treturn f'{feature_name} {constraint.sense.operator_symbol} {constraint.rhs}'"
   ]
  },
  {
   "cell_type": "code",
   "execution_count": null,
   "metadata": {},
   "outputs": [],
   "source": [
    "def simple_print_explanation(explanation: list[docplex.mp.constr.LinearConstraint]):\n",
    "\tfor e in explanation:\n",
    "\t\tprint(represent_constraint_with_feature_name(e))"
   ]
  },
  {
   "cell_type": "code",
   "execution_count": null,
   "metadata": {},
   "outputs": [],
   "source": [
    "def group_by_name(constraints: list[docplex.mp.constr.LinearConstraint]):\n",
    "\tgroup = {}\n",
    "\tfor c in constraints:\n",
    "\t\tvariable = c.lhs\n",
    "\t\ti = get_variable_index(variable)\n",
    "\t\tfeature_name = dataframe.columns[i]\n",
    "\t\tif feature_name not in group:\n",
    "\t\t\tgroup[feature_name] = []\n",
    "\t\tgroup[feature_name].append(c)\n",
    "\n",
    "\treturn group"
   ]
  },
  {
   "cell_type": "code",
   "execution_count": null,
   "metadata": {},
   "outputs": [],
   "source": [
    "def get_interval_distance(constraints: list[docplex.mp.constr.LinearConstraint]):\n",
    "\tif len(constraints) == 1:\n",
    "\t\treturn 0\n",
    "\telif len(constraints) == 2:\n",
    "\t\tc_0 = constraints[0]\n",
    "\t\tc_1 = constraints[1]\n",
    "\t\tassert c_0.lhs.name == c_1.lhs.name\n",
    "\t\tdistance = c_0.rhs.constant - c_1.rhs.constant\n",
    "\t\treturn abs(distance)\n",
    "\telse:\n",
    "\t\tValueError()"
   ]
  },
  {
   "cell_type": "code",
   "execution_count": null,
   "metadata": {},
   "outputs": [],
   "source": [
    "def pretty_print_explanation(explanation: list[docplex.mp.constr.LinearConstraint]):\n",
    "\tgroup = group_by_name(improved_explanation)\n",
    "\tfor (feature, constraints) in group.items():\n",
    "\t\tif len(constraints) == 2:\n",
    "\t\t\tc_0 = constraints[0]\n",
    "\t\t\tc_1 = constraints[1]\n",
    "\t\t\tle_operator = docplex.mp.constants.ComparisonType.LE\n",
    "\t\t\tif c_0.sense == le_operator:\n",
    "\t\t\t\tc_plus = c_0\n",
    "\t\t\t\tc_minus = c_1\n",
    "\t\t\telse:\n",
    "\t\t\t\tc_minus = c_0\n",
    "\t\t\t\tc_plus = c_1\n",
    "\t\t\tprint(f'{c_minus.rhs} {le_operator.operator_symbol} {feature} {le_operator.operator_symbol} {c_plus.rhs}')\n",
    "\t\telse:\n",
    "\t\t\tprint(represent_constraint_with_feature_name(constraints[0]))"
   ]
  },
  {
   "cell_type": "code",
   "execution_count": null,
   "metadata": {},
   "outputs": [],
   "source": [
    "pretty_print_explanation(improved_explanation)"
   ]
  },
  {
   "cell_type": "code",
   "execution_count": null,
   "metadata": {},
   "outputs": [],
   "source": [
    "group = group_by_name(improved_explanation)\n",
    "for feature in group:\n",
    "\tprint(get_interval_distance(group[feature]))"
   ]
  },
  {
   "cell_type": "markdown",
   "metadata": {},
   "source": [
    "### Anchor"
   ]
  },
  {
   "cell_type": "code",
   "execution_count": null,
   "metadata": {},
   "outputs": [],
   "source": [
    "from anchor import utils"
   ]
  },
  {
   "cell_type": "code",
   "execution_count": null,
   "metadata": {},
   "outputs": [],
   "source": [
    "d = utils.load_csv_dataset(\n",
    "\tdata=f'datasets/{dataset_name}/test.csv',\n",
    "\ttarget_idx=-1,\n",
    "\tfeature_names=['RI','Na','Mg','Al','Si','K','Ca','Ba','Fe','target'],\n",
    "\tskip_first=True\n",
    ")"
   ]
  },
  {
   "cell_type": "code",
   "execution_count": null,
   "metadata": {},
   "outputs": [],
   "source": [
    "from anchor import anchor_tabular"
   ]
  },
  {
   "cell_type": "code",
   "execution_count": null,
   "metadata": {},
   "outputs": [],
   "source": [
    "explainer = anchor_tabular.AnchorTabularExplainer(\n",
    "\td.class_names,\n",
    "\td.feature_names,\n",
    "\td.train,\n",
    "\td.categorical_names)"
   ]
  },
  {
   "cell_type": "code",
   "execution_count": null,
   "metadata": {},
   "outputs": [],
   "source": [
    "predict_fn = lambda x: tf.argmax(keras_model.predict(x)[0]).numpy().reshape(1)"
   ]
  },
  {
   "cell_type": "code",
   "execution_count": null,
   "metadata": {},
   "outputs": [],
   "source": [
    "for a in d.train:\n",
    "\ta == data[i]"
   ]
  },
  {
   "cell_type": "code",
   "execution_count": null,
   "metadata": {},
   "outputs": [],
   "source": [
    "exp = explainer.explain_instance(data[i, :-1], predict_fn)"
   ]
  },
  {
   "cell_type": "code",
   "execution_count": null,
   "metadata": {},
   "outputs": [],
   "source": [
    "for name in exp.names():\n",
    "\tprint(name)"
   ]
  },
  {
   "cell_type": "code",
   "execution_count": null,
   "metadata": {},
   "outputs": [],
   "source": [
    "pretty_print_explanation(improved_explanation)"
   ]
  },
  {
   "cell_type": "code",
   "execution_count": null,
   "metadata": {},
   "outputs": [],
   "source": [
    "simple_print_explanation(improved_explanation)"
   ]
  },
  {
   "cell_type": "code",
   "execution_count": null,
   "metadata": {},
   "outputs": [],
   "source": [
    "print('Precision: %f' % exp.precision())\n",
    "print('Coverage:  %f' % exp.coverage())"
   ]
  },
  {
   "cell_type": "markdown",
   "metadata": {},
   "source": [
    "## Australian"
   ]
  },
  {
   "cell_type": "code",
   "execution_count": null,
   "metadata": {},
   "outputs": [],
   "source": []
  }
 ],
 "metadata": {
  "kernelspec": {
   "display_name": "venv",
   "language": "python",
   "name": "venv"
  },
  "language_info": {
   "codemirror_mode": {
    "name": "ipython",
    "version": 3
   },
   "file_extension": ".py",
   "mimetype": "text/x-python",
   "name": "python",
   "nbconvert_exporter": "python",
   "pygments_lexer": "ipython3",
   "version": "3.9.13"
  }
 },
 "nbformat": 4,
 "nbformat_minor": 4
}
