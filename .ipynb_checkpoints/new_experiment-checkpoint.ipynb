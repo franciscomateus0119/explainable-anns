{
 "cells": [
  {
   "cell_type": "markdown",
   "metadata": {},
   "source": [
    "# Experiments"
   ]
  },
  {
   "cell_type": "code",
   "execution_count": null,
   "metadata": {},
   "outputs": [],
   "source": [
    "#!pip install tensorflow==2.10.0\n",
    "#!pip install docplex\n",
    "#!pip install cplex"
   ]
  },
  {
   "cell_type": "code",
   "execution_count": 39,
   "metadata": {},
   "outputs": [],
   "source": [
    "import pandas as pd\n",
    "import tensorflow as tf\n",
    "\n",
    "from milp import codify_network\n",
    "from teste import get_minimal_explanation\n",
    "\n",
    "# For type annotations\n",
    "import numpy as np"
   ]
  },
  {
   "cell_type": "code",
   "execution_count": 40,
   "metadata": {},
   "outputs": [],
   "source": [
    "dataset_name = 'glass'\n",
    "\n",
    "training_data = pd.read_csv(f'datasets/{dataset_name}/train.csv')\n",
    "testing_data = pd.read_csv(f'datasets/{dataset_name}/test.csv')\n",
    "\n",
    "dataframe = pd.concat([training_data, testing_data])\n",
    "\n",
    "keras_model = tf.keras.models.load_model(f'datasets/{dataset_name}/model_2layers_{dataset_name}.h5')\n",
    "\n",
    "data = dataframe.to_numpy()\n",
    "n_classes = dataframe['target'].nunique()"
   ]
  },
  {
   "cell_type": "code",
   "execution_count": 41,
   "metadata": {},
   "outputs": [],
   "source": [
    "mp_model, output_bounds = codify_network(keras_model, dataframe, 'fischetti', relax_constraints=False)"
   ]
  },
  {
   "cell_type": "code",
   "execution_count": 42,
   "metadata": {},
   "outputs": [],
   "source": [
    "#print(mp_model.export_as_lp_string())"
   ]
  },
  {
   "cell_type": "code",
   "execution_count": 43,
   "metadata": {},
   "outputs": [
    {
     "name": "stdout",
     "output_type": "stream",
     "text": [
      "i = 138\n",
      "1/1 [==============================] - 0s 38ms/step\n",
      "1/1 [==============================] - 0s 14ms/step\n",
      "Predictions: (ndarray[ndarray[<class 'numpy.float32'>]]) 0.0007575714\n",
      "Network output: (<class 'numpy.int64'>) 1\n"
     ]
    }
   ],
   "source": [
    "# i = 134 is also a nice value to study\n",
    "i = 138\n",
    "print('i =', i)\n",
    "network_input = data[i, :-1]\n",
    "network_input = tf.reshape(tf.constant(network_input), [1, -1])\n",
    "network_output = keras_model.predict(tf.constant(network_input))[0]\n",
    "network_output = tf.argmax(network_output)\n",
    "\n",
    "predictions = keras_model.predict(tf.constant(network_input))[0, 0]\n",
    "\n",
    "print(f'Predictions: (ndarray[ndarray[{type(predictions)}]])', predictions)\n",
    "classification: np.int64 = network_output.numpy()\n",
    "print(f'Network output: ({type(classification)})', classification)"
   ]
  },
  {
   "cell_type": "code",
   "execution_count": 44,
   "metadata": {},
   "outputs": [
    {
     "data": {
      "text/plain": [
       "[docplex.mp.LinearConstraint[input1](x_0,EQ,2.967691214515491),\n",
       " docplex.mp.LinearConstraint[input4](x_3,EQ,-1.408120229258977),\n",
       " docplex.mp.LinearConstraint[input6](x_5,EQ,-0.790702170757714),\n",
       " docplex.mp.LinearConstraint[input7](x_6,EQ,4.24127975754059),\n",
       " docplex.mp.LinearConstraint[input8](x_7,EQ,-0.3615292659832898),\n",
       " docplex.mp.LinearConstraint[input9](x_8,EQ,-0.6037614142464092)]"
      ]
     },
     "execution_count": 44,
     "metadata": {},
     "output_type": "execute_result"
    }
   ],
   "source": [
    "mdl_aux = mp_model.clone()\n",
    "minimal_explanation = get_minimal_explanation(mdl_aux, network_input, network_output, n_classes, 'fischetti', output_bounds)\n",
    "minimal_explanation"
   ]
  },
  {
   "cell_type": "markdown",
   "metadata": {},
   "source": [
    "### Improving the Explanation"
   ]
  },
  {
   "cell_type": "code",
   "execution_count": 148,
   "metadata": {},
   "outputs": [],
   "source": [
    "import docplex"
   ]
  },
  {
   "cell_type": "code",
   "execution_count": 206,
   "metadata": {},
   "outputs": [],
   "source": [
    "minimal_model = mdl_aux\n",
    "testing_model = minimal_model.clone()"
   ]
  },
  {
   "cell_type": "code",
   "execution_count": 207,
   "metadata": {},
   "outputs": [],
   "source": [
    "#print(testing_model.export_as_lp_string())"
   ]
  },
  {
   "cell_type": "code",
   "execution_count": 208,
   "metadata": {},
   "outputs": [
    {
     "data": {
      "text/plain": [
       "[docplex.mp.LinearConstraint[input1](x_0,EQ,2.967691214515491),\n",
       " docplex.mp.LinearConstraint[input4](x_3,EQ,-1.408120229258977),\n",
       " docplex.mp.LinearConstraint[input6](x_5,EQ,-0.790702170757714),\n",
       " docplex.mp.LinearConstraint[input7](x_6,EQ,4.24127975754059),\n",
       " docplex.mp.LinearConstraint[input8](x_7,EQ,-0.3615292659832898),\n",
       " docplex.mp.LinearConstraint[input9](x_8,EQ,-0.6037614142464092)]"
      ]
     },
     "execution_count": 208,
     "metadata": {},
     "output_type": "execute_result"
    }
   ],
   "source": [
    "linear_constraints = testing_model.find_matching_linear_constraints('input')\n",
    "linear_constraints"
   ]
  },
  {
   "cell_type": "code",
   "execution_count": 209,
   "metadata": {},
   "outputs": [],
   "source": [
    "linear_constraints = testing_model.find_matching_linear_constraints('input')\n",
    "\n",
    "for constraint in linear_constraints:\n",
    "\ttesting_model.remove_constraint(constraint)\n",
    "\ttesting_model.add_constraint(constraint.lhs <= constraint.rhs.clone(), 'input LE')\n",
    "\ttesting_model.add_constraint(constraint.lhs >= constraint.rhs.clone(), 'input GE')"
   ]
  },
  {
   "cell_type": "code",
   "execution_count": 210,
   "metadata": {},
   "outputs": [
    {
     "data": {
      "text/plain": [
       "[docplex.mp.LinearConstraint[input LE](x_0,LE,2.967691214515491),\n",
       " docplex.mp.LinearConstraint[input GE](x_0,GE,2.967691214515491),\n",
       " docplex.mp.LinearConstraint[input LE](x_3,LE,-1.408120229258977),\n",
       " docplex.mp.LinearConstraint[input GE](x_3,GE,-1.408120229258977),\n",
       " docplex.mp.LinearConstraint[input LE](x_5,LE,-0.790702170757714),\n",
       " docplex.mp.LinearConstraint[input GE](x_5,GE,-0.790702170757714),\n",
       " docplex.mp.LinearConstraint[input LE](x_6,LE,4.24127975754059),\n",
       " docplex.mp.LinearConstraint[input GE](x_6,GE,4.24127975754059),\n",
       " docplex.mp.LinearConstraint[input LE](x_7,LE,-0.3615292659832898),\n",
       " docplex.mp.LinearConstraint[input GE](x_7,GE,-0.3615292659832898),\n",
       " docplex.mp.LinearConstraint[input LE](x_8,LE,-0.6037614142464092),\n",
       " docplex.mp.LinearConstraint[input GE](x_8,GE,-0.6037614142464092)]"
      ]
     },
     "execution_count": 210,
     "metadata": {},
     "output_type": "execute_result"
    }
   ],
   "source": [
    "linear_constraints = testing_model.find_matching_linear_constraints('input')\n",
    "linear_constraints"
   ]
  },
  {
   "cell_type": "code",
   "execution_count": 211,
   "metadata": {},
   "outputs": [],
   "source": [
    "#print(testing_model.export_as_lp_string())"
   ]
  },
  {
   "cell_type": "code",
   "execution_count": 212,
   "metadata": {},
   "outputs": [],
   "source": [
    "def log_and_improve_explanation(minimal_explanation: list, epsilon: float):\n",
    "\tfor constraint in minimal_explanation:\n",
    "\t\ttesting_model.solve()\n",
    "\t\tprint('Initial constraint:' + '\\t', constraint)\n",
    "\n",
    "\t\tvariable = constraint.lhs\n",
    "\t\twhile testing_model.solution is None:\n",
    "\t\t\tif constraint.sense == docplex.mp.constants.ComparisonType.LE:\n",
    "\t\t\t\tif constraint.rhs.constant <= variable.ub:\n",
    "\t\t\t\t\tconstraint.rhs += epsilon\n",
    "\t\t\t\telse:\n",
    "\t\t\t\t\tbreak\n",
    "\t\t\telif constraint.sense == docplex.mp.constants.ComparisonType.GE:\n",
    "\t\t\t\tif constraint.rhs.constant >= variable.lb:\n",
    "\t\t\t\t\tconstraint.rhs -= epsilon\n",
    "\t\t\t\telse:\n",
    "\t\t\t\t\tbreak\n",
    "\t\t\telse:\n",
    "\t\t\t\traise Exception('Constraint sense was neither LE nor GE')\n",
    "\n",
    "\t\t\ttesting_model.solve()\n",
    "\n",
    "\t\t# Undo last operation\n",
    "\t\tif constraint.sense == docplex.mp.constants.ComparisonType.LE:\n",
    "\t\t\tconstraint.rhs -= epsilon\n",
    "\t\telif constraint.sense == docplex.mp.constants.ComparisonType.GE:\n",
    "\t\t\tconstraint.rhs += epsilon\n",
    "\n",
    "\t\tprint('Final constraint:' + '\\t', constraint)\n",
    "\t\tprint()"
   ]
  },
  {
   "cell_type": "code",
   "execution_count": 213,
   "metadata": {},
   "outputs": [],
   "source": [
    "def find_bounds(minimal_explanation: list):\n",
    "    for constraint in minimal_explanation:\n",
    "        #testing_model.solve()\n",
    "        print('Initial constraint:' + '\\t', constraint)\n",
    "\n",
    "        variable = constraint.lhs\n",
    "        print(f\"variable {variable} ub {variable.ub}\")\n",
    "        print(f\"variable {variable} lb {variable.lb}\")\n",
    "#find_bounds(linear_constraints)"
   ]
  },
  {
   "cell_type": "code",
   "execution_count": 214,
   "metadata": {},
   "outputs": [
    {
     "data": {
      "text/plain": [
       "'\\nfor constraint in linear_constraints:\\n    variable = constraint.lhs\\n    constraint_val = constraint.rhs\\n    constraint_type = constraint.sense\\n    print(f\"{constraint}, Variable: {variable}, Constraint Value: {constraint_val}, constraint_type: {constraint_type}\")\\n    constraint.rhs.add(-constraint_val + 100)\\n    print(f\"NEW: {constraint}\")\\n'"
      ]
     },
     "execution_count": 214,
     "metadata": {},
     "output_type": "execute_result"
    }
   ],
   "source": [
    "'''\n",
    "for constraint in linear_constraints:\n",
    "    variable = constraint.lhs\n",
    "    constraint_val = constraint.rhs\n",
    "    constraint_type = constraint.sense\n",
    "    print(f\"{constraint}, Variable: {variable}, Constraint Value: {constraint_val}, constraint_type: {constraint_type}\")\n",
    "    constraint.rhs.add(-constraint_val + 100)\n",
    "    print(f\"NEW: {constraint}\")\n",
    "'''"
   ]
  },
  {
   "cell_type": "code",
   "execution_count": 215,
   "metadata": {},
   "outputs": [],
   "source": [
    "def find_ranges(minimal_explanation: list, epsilon: float):\n",
    "    constraint_LE = None\n",
    "    constraint_GE = None\n",
    "    for i, constraint in enumerate(minimal_explanation):\n",
    "        print('Initial constraint:' + '\\t', constraint)\n",
    "\n",
    "        variable = constraint.lhs\n",
    "        constraint_val = constraint.rhs.constant\n",
    "        \n",
    "        #Check if its a (var <= value) constraint\n",
    "        if constraint.sense == docplex.mp.constants.ComparisonType.LE: \n",
    "            #the value in(var <= value) is set to the maximum possible, i.e. the upper bound\n",
    "            constraint.rhs = variable.ub\n",
    "            print(f\"LE constraint set to upper bound {variable.ub} --> {constraint}\")\n",
    "            \n",
    "            #Minimize the variable value\n",
    "            testing_model.minimize(variable)\n",
    "            \n",
    "            #Check if there is a solution, i.e. the class is changed when the variable assumes a certain value\n",
    "            sol = testing_model.solve()\n",
    "            if sol:\n",
    "                print(f\"Variable {variable} changes the class with value = {testing_model.objective_value}\")\n",
    "                constraint_LE = testing_model.objective_value - epsilon\n",
    "            else:\n",
    "                print(f\"Variable {variable} reached upper limit without changing class\")\n",
    "                constraint_LE = variable.ub\n",
    "            constraint.rhs = constraint_val\n",
    "            print(f\"Reseted constraint to {constraint_val} --> {constraint} \")\n",
    "            if constraint_LE and constraint_GE:\n",
    "                constraint.rhs.add(-constraint.rhs.constant + constraint_LE)\n",
    "                minimal_explanation[i-1].rhs.add(-minimal_explanation[i-1].rhs.constant + constraint_GE)\n",
    "                constraint_LE = None\n",
    "                constraint_GE = None\n",
    "                print(f\"UPDATED Bounds for {variable}: {minimal_explanation[i-1].rhs.constant}, {constraint.rhs.constant}\")\n",
    "                print(constraint)\n",
    "                print(minimal_explanation[i-1])\n",
    "                \n",
    "\n",
    "            else:\n",
    "                print(constraint_LE,constraint_GE)\n",
    "        \n",
    "        #Check if its a (var >= value)\n",
    "        elif constraint.sense == docplex.mp.constants.ComparisonType.GE:\n",
    "            #the value in(var <= value) is set to the minimum possible, i.e. the lower bound\n",
    "            constraint.rhs = variable.lb\n",
    "            print(f\"GE constraint set to lower bound {variable.lb} --> {constraint}\")\n",
    "            \n",
    "            #Maximize the variable value\n",
    "            testing_model.maximize(variable)\n",
    "            \n",
    "            #Check if there is a solution, i.e. the class is changed when the variable assumes a certain value\n",
    "            sol = testing_model.solve()\n",
    "            if sol:\n",
    "                print(f\"Variable {variable} changes the class with value = {testing_model.objective_value}\")\n",
    "                constraint_GE = testing_model.objective_value + epsilon\n",
    "            else:\n",
    "                print(f\"Variable {variable} reached lower limit without changing class\")\n",
    "                constraint_LE = variable.lb\n",
    "            constraint.rhs = constraint_val\n",
    "            print(f\"Reseted constraint to {constraint_val} --> {constraint} \")\n",
    "            \n",
    "            if constraint_LE and constraint_GE:\n",
    "                constraint.rhs.add(-constraint.rhs.constant + constraint_GE)\n",
    "                minimal_explanation[i-1].rhs.add(-minimal_explanation[i-1].rhs.constant + constraint_LE)\n",
    "                constraint_LE = None\n",
    "                constraint_GE = None\n",
    "                print(f\"UPDATED Bounds for {variable}: {constraint.rhs.constant}, {minimal_explanation[i-1].rhs.constant}\")\n",
    "                print(minimal_explanation[i-1])\n",
    "                print(constraint)\n",
    "                \n",
    "            else:\n",
    "                print(\"Failed\")\n",
    "                print(constraint_LE,constraint_GE)\n",
    "        else:\n",
    "            raise Exception('Constraint sense was neither LE nor GE')\n",
    "        print(\"\\n\")\n",
    "            \n",
    "            "
   ]
  },
  {
   "cell_type": "code",
   "execution_count": 216,
   "metadata": {},
   "outputs": [
    {
     "name": "stdout",
     "output_type": "stream",
     "text": [
      "Initial constraint:\t input LE: x_0 <= 2.967691214515491\n",
      "LE constraint set to upper bound 5.1279016612406805 --> input LE: x_0 <= 5.1279016612406805\n",
      "Variable x_0 reached upper limit without changing class\n",
      "Reseted constraint to 2.967691214515491 --> input LE: x_0 <= 2.967691214515491 \n",
      "5.1279016612406805 None\n",
      "\n",
      "\n",
      "Initial constraint:\t input GE: x_0 >= 2.967691214515491\n",
      "GE constraint set to lower bound -2.343651902203461 --> input GE: x_0 >= -2.343651902203461\n",
      "Variable x_0 changes the class with value = 1.4235358259063398\n",
      "Reseted constraint to 2.967691214515491 --> input GE: x_0 >= 2.967691214515491 \n",
      "UPDATED Bounds for x_0: 1.4245358259063396, 5.1279016612406805\n",
      "input LE: x_0 <= 5.1279016612406805\n",
      "input GE: x_0 >= 1.4245358259063396\n",
      "\n",
      "\n",
      "Initial constraint:\t input LE: x_3 <= -1.408120229258977\n",
      "LE constraint set to upper bound 4.136918742833424 --> input LE: x_3 <= 4.136918742833424\n",
      "Variable x_3 changes the class with value = -1.4076186320104656\n",
      "Reseted constraint to -1.408120229258977 --> input LE: x_3 <= -1.408120229258977 \n",
      "-1.4086186320104654 None\n",
      "\n",
      "\n",
      "Initial constraint:\t input GE: x_3 >= -1.408120229258977\n",
      "GE constraint set to lower bound -2.335654020954433 --> input GE: x_3 >= -2.335654020954433\n",
      "Variable x_3 changes the class with value = -1.5200929200834394\n",
      "Reseted constraint to -1.408120229258977 --> input GE: x_3 >= -1.408120229258977 \n",
      "UPDATED Bounds for x_3: -1.5190929200834395, -1.4086186320104654\n",
      "input LE: x_3 <= -1.4086186320104654\n",
      "input GE: x_3 >= -1.5190929200834395\n",
      "\n",
      "\n",
      "Initial constraint:\t input LE: x_5 <= -0.790702170757714\n",
      "LE constraint set to upper bound 8.672524288611543 --> input LE: x_5 <= 8.672524288611543\n",
      "Variable x_5 changes the class with value = -0.7888684750712367\n",
      "Reseted constraint to -0.790702170757714 --> input LE: x_5 <= -0.790702170757714 \n",
      "-0.7898684750712367 None\n",
      "\n",
      "\n",
      "Initial constraint:\t input GE: x_5 >= -0.790702170757714\n",
      "GE constraint set to lower bound -0.790702170757714 --> input GE: x_5 >= -0.790702170757714\n",
      "Variable x_5 reached lower limit without changing class\n",
      "Reseted constraint to -0.790702170757714 --> input GE: x_5 >= -0.790702170757714 \n",
      "Failed\n",
      "-0.7898684750712367 None\n",
      "\n",
      "\n",
      "Initial constraint:\t input LE: x_6 <= 4.24127975754059\n",
      "LE constraint set to upper bound 5.107769273886023 --> input LE: x_6 <= 5.107769273886023\n",
      "Variable x_6 changes the class with value = 4.243909537005601\n",
      "Reseted constraint to 4.24127975754059 --> input LE: x_6 <= 4.24127975754059 \n",
      "4.242909537005601 None\n",
      "\n",
      "\n",
      "Initial constraint:\t input GE: x_6 >= 4.24127975754059\n",
      "GE constraint set to lower bound -2.472252836582964 --> input GE: x_6 >= -2.472252836582964\n",
      "Variable x_6 changes the class with value = 4.240507575127491\n",
      "Reseted constraint to 4.24127975754059 --> input GE: x_6 >= 4.24127975754059 \n",
      "UPDATED Bounds for x_6: 4.241507575127492, 4.242909537005601\n",
      "input LE: x_6 <= 4.242909537005601\n",
      "input GE: x_6 >= 4.241507575127492\n",
      "\n",
      "\n",
      "Initial constraint:\t input LE: x_7 <= -0.3615292659832898\n",
      "LE constraint set to upper bound 5.870652354644297 --> input LE: x_7 <= 5.870652354644297\n",
      "Variable x_7 changes the class with value = -0.3610457613841581\n",
      "Reseted constraint to -0.3615292659832898 --> input LE: x_7 <= -0.3615292659832898 \n",
      "-0.3620457613841581 None\n",
      "\n",
      "\n",
      "Initial constraint:\t input GE: x_7 >= -0.3615292659832898\n",
      "GE constraint set to lower bound -0.3615292659832898 --> input GE: x_7 >= -0.3615292659832898\n",
      "Variable x_7 reached lower limit without changing class\n",
      "Reseted constraint to -0.3615292659832898 --> input GE: x_7 >= -0.3615292659832898 \n",
      "Failed\n",
      "-0.3620457613841581 None\n",
      "\n",
      "\n",
      "Initial constraint:\t input LE: x_8 <= -0.6037614142464092\n",
      "LE constraint set to upper bound 4.570275951283269 --> input LE: x_8 <= 4.570275951283269\n",
      "Variable x_8 changes the class with value = -0.6030107207896135\n",
      "Reseted constraint to -0.6037614142464092 --> input LE: x_8 <= -0.6037614142464092 \n",
      "-0.6040107207896135 None\n",
      "\n",
      "\n",
      "Initial constraint:\t input GE: x_8 >= -0.6037614142464092\n",
      "GE constraint set to lower bound -0.6037614142464092 --> input GE: x_8 >= -0.6037614142464092\n",
      "Variable x_8 reached lower limit without changing class\n",
      "Reseted constraint to -0.6037614142464092 --> input GE: x_8 >= -0.6037614142464092 \n",
      "Failed\n",
      "-0.6040107207896135 None\n",
      "\n",
      "\n",
      "Initial constraint:\t input LE: x_0 <= 5.1279016612406805\n",
      "variable x_0 ub 5.1279016612406805\n",
      "variable x_0 lb -2.343651902203461\n",
      "Initial constraint:\t input GE: x_0 >= 1.4245358259063396\n",
      "variable x_0 ub 5.1279016612406805\n",
      "variable x_0 lb -2.343651902203461\n",
      "Initial constraint:\t input LE: x_3 <= -1.4086186320104654\n",
      "variable x_3 ub 4.136918742833424\n",
      "variable x_3 lb -2.335654020954433\n",
      "Initial constraint:\t input GE: x_3 >= -1.5190929200834395\n",
      "variable x_3 ub 4.136918742833424\n",
      "variable x_3 lb -2.335654020954433\n",
      "Initial constraint:\t input LE: x_5 <= -0.790702170757714\n",
      "variable x_5 ub 8.672524288611543\n",
      "variable x_5 lb -0.790702170757714\n",
      "Initial constraint:\t input GE: x_5 >= -0.790702170757714\n",
      "variable x_5 ub 8.672524288611543\n",
      "variable x_5 lb -0.790702170757714\n",
      "Initial constraint:\t input LE: x_6 <= 4.242909537005601\n",
      "variable x_6 ub 5.107769273886023\n",
      "variable x_6 lb -2.472252836582964\n",
      "Initial constraint:\t input GE: x_6 >= 4.241507575127492\n",
      "variable x_6 ub 5.107769273886023\n",
      "variable x_6 lb -2.472252836582964\n",
      "Initial constraint:\t input LE: x_7 <= -0.3615292659832898\n",
      "variable x_7 ub 5.870652354644297\n",
      "variable x_7 lb -0.3615292659832898\n",
      "Initial constraint:\t input GE: x_7 >= -0.3615292659832898\n",
      "variable x_7 ub 5.870652354644297\n",
      "variable x_7 lb -0.3615292659832898\n",
      "Initial constraint:\t input LE: x_8 <= -0.6037614142464092\n",
      "variable x_8 ub 4.570275951283269\n",
      "variable x_8 lb -0.6037614142464092\n",
      "Initial constraint:\t input GE: x_8 >= -0.6037614142464092\n",
      "variable x_8 ub 4.570275951283269\n",
      "variable x_8 lb -0.6037614142464092\n"
     ]
    }
   ],
   "source": [
    "find_ranges(linear_constraints, epsilon = 0.001)\n",
    "#linear_constraints = testing_model.find_matching_linear_constraints('input')\n",
    "#linear_constraints\n",
    "find_bounds(linear_constraints)"
   ]
  },
  {
   "cell_type": "code",
   "execution_count": 204,
   "metadata": {
    "tags": []
   },
   "outputs": [
    {
     "name": "stdout",
     "output_type": "stream",
     "text": [
      "Initial constraint:\t input LE: x_0 <= 5.1279016612406805\n",
      "Final constraint:\t input LE: x_0 <= 5.1279016612406805\n",
      "\n",
      "Initial constraint:\t input GE: x_0 >= 1.4235458259063398\n",
      "Final constraint:\t input GE: x_0 >= -2.3364541740936557\n",
      "\n",
      "Initial constraint:\t input LE: x_3 <= -1.408125213286492\n",
      "Final constraint:\t input LE: x_3 <= -1.408125213286492\n",
      "\n",
      "Initial constraint:\t input GE: x_3 >= -1.4081102292589769\n",
      "Final constraint:\t input GE: x_3 >= -1.4081102292589769\n",
      "\n",
      "Initial constraint:\t input LE: x_5 <= -0.790702170757714\n",
      "Final constraint:\t input LE: x_5 <= 8.669297829242147\n",
      "\n",
      "Initial constraint:\t input GE: x_5 >= -0.790702170757714\n",
      "Final constraint:\t input GE: x_5 >= -0.790702170757714\n",
      "\n",
      "Initial constraint:\t input LE: x_6 <= 4.24127975754059\n",
      "Final constraint:\t input LE: x_6 <= 5.1012797575405715\n",
      "\n",
      "Initial constraint:\t input GE: x_6 >= 4.24127975754059\n",
      "Final constraint:\t input GE: x_6 >= -2.4687202424593555\n",
      "\n",
      "Initial constraint:\t input LE: x_7 <= -0.3615292659832898\n",
      "Final constraint:\t input LE: x_7 <= 5.86847073401663\n",
      "\n",
      "Initial constraint:\t input GE: x_7 >= -0.3615292659832898\n",
      "Final constraint:\t input GE: x_7 >= -0.3615292659832898\n",
      "\n",
      "Initial constraint:\t input LE: x_8 <= -0.6037614142464092\n",
      "Final constraint:\t input LE: x_8 <= 4.566238585753538\n",
      "\n",
      "Initial constraint:\t input GE: x_8 >= -0.6037614142464092\n",
      "Final constraint:\t input GE: x_8 >= -0.6037614142464092\n",
      "\n"
     ]
    }
   ],
   "source": [
    "log_and_improve_explanation(linear_constraints, epsilon=0.01)"
   ]
  },
  {
   "cell_type": "code",
   "execution_count": 205,
   "metadata": {},
   "outputs": [
    {
     "data": {
      "text/plain": [
       "[docplex.mp.LinearConstraint[input LE](x_0,LE,5.1279016612406805),\n",
       " docplex.mp.LinearConstraint[input GE](x_0,GE,-2.3364541740936557),\n",
       " docplex.mp.LinearConstraint[input LE](x_3,LE,-1.408125213286492),\n",
       " docplex.mp.LinearConstraint[input GE](x_3,GE,-1.4081102292589769),\n",
       " docplex.mp.LinearConstraint[input LE](x_5,LE,8.669297829242147),\n",
       " docplex.mp.LinearConstraint[input GE](x_5,GE,-0.790702170757714),\n",
       " docplex.mp.LinearConstraint[input LE](x_6,LE,5.1012797575405715),\n",
       " docplex.mp.LinearConstraint[input GE](x_6,GE,-2.4687202424593555),\n",
       " docplex.mp.LinearConstraint[input LE](x_7,LE,5.86847073401663),\n",
       " docplex.mp.LinearConstraint[input GE](x_7,GE,-0.3615292659832898),\n",
       " docplex.mp.LinearConstraint[input LE](x_8,LE,4.566238585753538),\n",
       " docplex.mp.LinearConstraint[input GE](x_8,GE,-0.6037614142464092)]"
      ]
     },
     "execution_count": 205,
     "metadata": {},
     "output_type": "execute_result"
    }
   ],
   "source": [
    "linear_constraints = testing_model.find_matching_linear_constraints('input')\n",
    "linear_constraints"
   ]
  },
  {
   "cell_type": "code",
   "execution_count": 269,
   "metadata": {},
   "outputs": [],
   "source": [
    "number_of_inputs = len(dataframe.columns.drop('target'))\n",
    "for i in range(number_of_inputs):\n",
    "\tconstraints_of_x_i = filter(lambda x: x.lhs.name == f'x_{i}', linear_constraints)\n",
    "\tconstraints = [c for c in constraints_of_x_i]\n",
    "\n",
    "\tif len(constraints) == 2:\n",
    "\t\tif constraints[0].rhs.constant == constraints[1].rhs.constant:\n",
    "\t\t\ttesting_model.remove_constraints(constraints)\n",
    "\t\t\ttesting_model.add_constraint(constraints[0].lhs == constraints[0].rhs, 'input')"
   ]
  },
  {
   "cell_type": "code",
   "execution_count": 270,
   "metadata": {},
   "outputs": [
    {
     "data": {
      "text/plain": [
       "[docplex.mp.LinearConstraint[input LE](x_0,LE,5.1279016612406805),\n",
       " docplex.mp.LinearConstraint[input GE](x_0,GE,-2.3420983387592487),\n",
       " docplex.mp.LinearConstraint[input LE](x_0,LE,5.126348097796468),\n",
       " docplex.mp.LinearConstraint[input GE](x_0,GE,-2.343651902203461),\n",
       " docplex.mp.LinearConstraint[input LE](x_3,LE,4.136918742833424),\n",
       " docplex.mp.LinearConstraint[input GE](x_3,GE,-2.3330812571665267),\n",
       " docplex.mp.LinearConstraint[input LE](x_3,LE,4.134345979045517),\n",
       " docplex.mp.LinearConstraint[input GE](x_3,GE,-2.335654020954433),\n",
       " docplex.mp.LinearConstraint[input LE](x_5,LE,8.672524288611543),\n",
       " docplex.mp.LinearConstraint[input GE](x_5,GE,-0.7874757113883172),\n",
       " docplex.mp.LinearConstraint[input LE](x_5,LE,8.669297829242147),\n",
       " docplex.mp.LinearConstraint[input GE](x_5,GE,-0.790702170757714),\n",
       " docplex.mp.LinearConstraint[input LE](x_6,LE,5.107769273886023),\n",
       " docplex.mp.LinearConstraint[input GE](x_6,GE,-2.4722307261139034),\n",
       " docplex.mp.LinearConstraint[input LE](x_6,LE,5.107747163416963),\n",
       " docplex.mp.LinearConstraint[input GE](x_6,GE,-2.472252836582964),\n",
       " docplex.mp.LinearConstraint[input LE](x_7,LE,5.870652354644297),\n",
       " docplex.mp.LinearConstraint[input GE](x_7,GE,-0.3593476453556225),\n",
       " docplex.mp.LinearConstraint[input LE](x_7,LE,5.86847073401663),\n",
       " docplex.mp.LinearConstraint[input GE](x_7,GE,-0.3615292659832898),\n",
       " docplex.mp.LinearConstraint[input LE](x_8,LE,4.570275951283269),\n",
       " docplex.mp.LinearConstraint[input GE](x_8,GE,-0.5997240487166785),\n",
       " docplex.mp.LinearConstraint[input LE](x_8,LE,-0.6037614142464092),\n",
       " docplex.mp.LinearConstraint[input GE](x_8,GE,-0.6037614142464092)]"
      ]
     },
     "execution_count": 270,
     "metadata": {},
     "output_type": "execute_result"
    }
   ],
   "source": [
    "improved_explanation = testing_model.find_matching_linear_constraints('input')\n",
    "improved_explanation"
   ]
  },
  {
   "cell_type": "code",
   "execution_count": null,
   "metadata": {},
   "outputs": [],
   "source": []
  }
 ],
 "metadata": {
  "kernelspec": {
   "display_name": "venv",
   "language": "python",
   "name": "venv"
  },
  "language_info": {
   "codemirror_mode": {
    "name": "ipython",
    "version": 3
   },
   "file_extension": ".py",
   "mimetype": "text/x-python",
   "name": "python",
   "nbconvert_exporter": "python",
   "pygments_lexer": "ipython3",
   "version": "3.9.13"
  }
 },
 "nbformat": 4,
 "nbformat_minor": 4
}
