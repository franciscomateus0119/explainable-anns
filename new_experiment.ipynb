{
 "cells": [
  {
   "cell_type": "markdown",
   "metadata": {},
   "source": [
    "# Experiments"
   ]
  },
  {
   "cell_type": "code",
   "execution_count": null,
   "metadata": {},
   "outputs": [],
   "source": [
    "#!pip install tensorflow==2.10.0\n",
    "#!pip install docplex\n",
    "#!pip install cplex"
   ]
  },
  {
   "cell_type": "code",
   "execution_count": 1,
   "metadata": {},
   "outputs": [
    {
     "name": "stderr",
     "output_type": "stream",
     "text": [
      "2023-06-14 16:54:38.075630: I tensorflow/core/platform/cpu_feature_guard.cc:193] This TensorFlow binary is optimized with oneAPI Deep Neural Network Library (oneDNN) to use the following CPU instructions in performance-critical operations:  AVX2 FMA\n",
      "To enable them in other operations, rebuild TensorFlow with the appropriate compiler flags.\n",
      "2023-06-14 16:54:38.214456: W tensorflow/stream_executor/platform/default/dso_loader.cc:64] Could not load dynamic library 'libcudart.so.11.0'; dlerror: libcudart.so.11.0: cannot open shared object file: No such file or directory\n",
      "2023-06-14 16:54:38.214469: I tensorflow/stream_executor/cuda/cudart_stub.cc:29] Ignore above cudart dlerror if you do not have a GPU set up on your machine.\n",
      "2023-06-14 16:54:38.237754: E tensorflow/stream_executor/cuda/cuda_blas.cc:2981] Unable to register cuBLAS factory: Attempting to register factory for plugin cuBLAS when one has already been registered\n",
      "2023-06-14 16:54:39.200060: W tensorflow/stream_executor/platform/default/dso_loader.cc:64] Could not load dynamic library 'libnvinfer.so.7'; dlerror: libnvinfer.so.7: cannot open shared object file: No such file or directory\n",
      "2023-06-14 16:54:39.200120: W tensorflow/stream_executor/platform/default/dso_loader.cc:64] Could not load dynamic library 'libnvinfer_plugin.so.7'; dlerror: libnvinfer_plugin.so.7: cannot open shared object file: No such file or directory\n",
      "2023-06-14 16:54:39.200126: W tensorflow/compiler/tf2tensorrt/utils/py_utils.cc:38] TF-TRT Warning: Cannot dlopen some TensorRT libraries. If you would like to use Nvidia GPU with TensorRT, please make sure the missing libraries mentioned above are installed properly.\n"
     ]
    }
   ],
   "source": [
    "import pandas as pd\n",
    "import tensorflow as tf\n",
    "\n",
    "from milp import codify_network\n",
    "from teste import get_minimal_explanation\n",
    "\n",
    "# For type annotations\n",
    "import numpy as np"
   ]
  },
  {
   "cell_type": "code",
   "execution_count": 2,
   "metadata": {},
   "outputs": [
    {
     "name": "stderr",
     "output_type": "stream",
     "text": [
      "2023-06-14 16:54:40.454857: I tensorflow/stream_executor/cuda/cuda_gpu_executor.cc:980] successful NUMA node read from SysFS had negative value (-1), but there must be at least one NUMA node, so returning NUMA node zero\n",
      "2023-06-14 16:54:40.455087: W tensorflow/stream_executor/platform/default/dso_loader.cc:64] Could not load dynamic library 'libcudart.so.11.0'; dlerror: libcudart.so.11.0: cannot open shared object file: No such file or directory\n",
      "2023-06-14 16:54:40.455147: W tensorflow/stream_executor/platform/default/dso_loader.cc:64] Could not load dynamic library 'libcublas.so.11'; dlerror: libcublas.so.11: cannot open shared object file: No such file or directory\n",
      "2023-06-14 16:54:40.455198: W tensorflow/stream_executor/platform/default/dso_loader.cc:64] Could not load dynamic library 'libcublasLt.so.11'; dlerror: libcublasLt.so.11: cannot open shared object file: No such file or directory\n",
      "2023-06-14 16:54:40.455249: W tensorflow/stream_executor/platform/default/dso_loader.cc:64] Could not load dynamic library 'libcufft.so.10'; dlerror: libcufft.so.10: cannot open shared object file: No such file or directory\n",
      "2023-06-14 16:54:40.455298: W tensorflow/stream_executor/platform/default/dso_loader.cc:64] Could not load dynamic library 'libcurand.so.10'; dlerror: libcurand.so.10: cannot open shared object file: No such file or directory\n",
      "2023-06-14 16:54:40.455348: W tensorflow/stream_executor/platform/default/dso_loader.cc:64] Could not load dynamic library 'libcusolver.so.11'; dlerror: libcusolver.so.11: cannot open shared object file: No such file or directory\n",
      "2023-06-14 16:54:40.455397: W tensorflow/stream_executor/platform/default/dso_loader.cc:64] Could not load dynamic library 'libcusparse.so.11'; dlerror: libcusparse.so.11: cannot open shared object file: No such file or directory\n",
      "2023-06-14 16:54:40.455448: W tensorflow/stream_executor/platform/default/dso_loader.cc:64] Could not load dynamic library 'libcudnn.so.8'; dlerror: libcudnn.so.8: cannot open shared object file: No such file or directory\n",
      "2023-06-14 16:54:40.455455: W tensorflow/core/common_runtime/gpu/gpu_device.cc:1934] Cannot dlopen some GPU libraries. Please make sure the missing libraries mentioned above are installed properly if you would like to use GPU. Follow the guide at https://www.tensorflow.org/install/gpu for how to download and setup the required libraries for your platform.\n",
      "Skipping registering GPU devices...\n",
      "2023-06-14 16:54:40.455650: I tensorflow/core/platform/cpu_feature_guard.cc:193] This TensorFlow binary is optimized with oneAPI Deep Neural Network Library (oneDNN) to use the following CPU instructions in performance-critical operations:  AVX2 FMA\n",
      "To enable them in other operations, rebuild TensorFlow with the appropriate compiler flags.\n"
     ]
    }
   ],
   "source": [
    "dataset_name = 'glass'\n",
    "\n",
    "training_data = pd.read_csv(f'datasets/{dataset_name}/train.csv')\n",
    "testing_data = pd.read_csv(f'datasets/{dataset_name}/test.csv')\n",
    "\n",
    "dataframe = pd.concat([training_data, testing_data])\n",
    "\n",
    "keras_model = tf.keras.models.load_model(f'datasets/{dataset_name}/model_2layers_{dataset_name}.h5')\n",
    "\n",
    "data = dataframe.to_numpy()\n",
    "n_classes = dataframe['target'].nunique()"
   ]
  },
  {
   "cell_type": "code",
   "execution_count": 3,
   "metadata": {},
   "outputs": [],
   "source": [
    "mp_model, output_bounds = codify_network(keras_model, dataframe, 'fischetti', relax_constraints=False)"
   ]
  },
  {
   "cell_type": "code",
   "execution_count": 4,
   "metadata": {},
   "outputs": [],
   "source": [
    "#print(mp_model.export_as_lp_string())"
   ]
  },
  {
   "cell_type": "code",
   "execution_count": 5,
   "metadata": {},
   "outputs": [
    {
     "name": "stdout",
     "output_type": "stream",
     "text": [
      "i = 138\n",
      "1/1 [==============================] - 0s 88ms/step\n",
      "1/1 [==============================] - 0s 13ms/step\n",
      "Predictions: (ndarray[ndarray[<class 'numpy.float32'>]]) 0.0007575714\n",
      "Network output: (<class 'numpy.int64'>) 1\n"
     ]
    }
   ],
   "source": [
    "# i = 134 is also a nice value to study\n",
    "i = 138\n",
    "print('i =', i)\n",
    "network_input = data[i, :-1]\n",
    "network_input = tf.reshape(tf.constant(network_input), [1, -1])\n",
    "network_output = keras_model.predict(tf.constant(network_input))[0]\n",
    "network_output = tf.argmax(network_output)\n",
    "\n",
    "predictions = keras_model.predict(tf.constant(network_input))[0, 0]\n",
    "\n",
    "print(f'Predictions: (ndarray[ndarray[{type(predictions)}]])', predictions)\n",
    "classification: np.int64 = network_output.numpy()\n",
    "print(f'Network output: ({type(classification)})', classification)"
   ]
  },
  {
   "cell_type": "code",
   "execution_count": 6,
   "metadata": {},
   "outputs": [
    {
     "data": {
      "text/plain": [
       "[docplex.mp.LinearConstraint[input1](x_0,EQ,2.967691214515491),\n",
       " docplex.mp.LinearConstraint[input4](x_3,EQ,-1.408120229258977),\n",
       " docplex.mp.LinearConstraint[input6](x_5,EQ,-0.790702170757714),\n",
       " docplex.mp.LinearConstraint[input7](x_6,EQ,4.24127975754059),\n",
       " docplex.mp.LinearConstraint[input8](x_7,EQ,-0.3615292659832898),\n",
       " docplex.mp.LinearConstraint[input9](x_8,EQ,-0.6037614142464092)]"
      ]
     },
     "execution_count": 6,
     "metadata": {},
     "output_type": "execute_result"
    }
   ],
   "source": [
    "mdl_aux = mp_model.clone()\n",
    "minimal_explanation = get_minimal_explanation(mdl_aux, network_input, network_output, n_classes, 'fischetti', output_bounds)\n",
    "minimal_explanation"
   ]
  },
  {
   "cell_type": "markdown",
   "metadata": {},
   "source": [
    "### Improving the Explanation"
   ]
  },
  {
   "cell_type": "code",
   "execution_count": 7,
   "metadata": {},
   "outputs": [],
   "source": [
    "import docplex"
   ]
  },
  {
   "cell_type": "code",
   "execution_count": 157,
   "metadata": {},
   "outputs": [],
   "source": [
    "minimal_model = mdl_aux\n",
    "testing_model = minimal_model.clone()"
   ]
  },
  {
   "cell_type": "code",
   "execution_count": 158,
   "metadata": {},
   "outputs": [],
   "source": [
    "#print(testing_model.export_as_lp_string())"
   ]
  },
  {
   "cell_type": "code",
   "execution_count": 159,
   "metadata": {},
   "outputs": [
    {
     "data": {
      "text/plain": [
       "[docplex.mp.LinearConstraint[input1](x_0,EQ,2.967691214515491),\n",
       " docplex.mp.LinearConstraint[input4](x_3,EQ,-1.408120229258977),\n",
       " docplex.mp.LinearConstraint[input6](x_5,EQ,-0.790702170757714),\n",
       " docplex.mp.LinearConstraint[input7](x_6,EQ,4.24127975754059),\n",
       " docplex.mp.LinearConstraint[input8](x_7,EQ,-0.3615292659832898),\n",
       " docplex.mp.LinearConstraint[input9](x_8,EQ,-0.6037614142464092)]"
      ]
     },
     "execution_count": 159,
     "metadata": {},
     "output_type": "execute_result"
    }
   ],
   "source": [
    "linear_constraints = testing_model.find_matching_linear_constraints('input')\n",
    "linear_constraints"
   ]
  },
  {
   "cell_type": "code",
   "execution_count": 160,
   "metadata": {},
   "outputs": [],
   "source": [
    "linear_constraints = testing_model.find_matching_linear_constraints('input')\n",
    "\n",
    "for constraint in linear_constraints:\n",
    "\ttesting_model.remove_constraint(constraint)\n",
    "\ttesting_model.add_constraint(constraint.lhs <= constraint.rhs.clone(), 'input LE')\n",
    "\ttesting_model.add_constraint(constraint.lhs >= constraint.rhs.clone(), 'input GE')"
   ]
  },
  {
   "cell_type": "code",
   "execution_count": 161,
   "metadata": {},
   "outputs": [
    {
     "data": {
      "text/plain": [
       "[docplex.mp.LinearConstraint[input LE](x_0,LE,2.967691214515491),\n",
       " docplex.mp.LinearConstraint[input GE](x_0,GE,2.967691214515491),\n",
       " docplex.mp.LinearConstraint[input LE](x_3,LE,-1.408120229258977),\n",
       " docplex.mp.LinearConstraint[input GE](x_3,GE,-1.408120229258977),\n",
       " docplex.mp.LinearConstraint[input LE](x_5,LE,-0.790702170757714),\n",
       " docplex.mp.LinearConstraint[input GE](x_5,GE,-0.790702170757714),\n",
       " docplex.mp.LinearConstraint[input LE](x_6,LE,4.24127975754059),\n",
       " docplex.mp.LinearConstraint[input GE](x_6,GE,4.24127975754059),\n",
       " docplex.mp.LinearConstraint[input LE](x_7,LE,-0.3615292659832898),\n",
       " docplex.mp.LinearConstraint[input GE](x_7,GE,-0.3615292659832898),\n",
       " docplex.mp.LinearConstraint[input LE](x_8,LE,-0.6037614142464092),\n",
       " docplex.mp.LinearConstraint[input GE](x_8,GE,-0.6037614142464092)]"
      ]
     },
     "execution_count": 161,
     "metadata": {},
     "output_type": "execute_result"
    }
   ],
   "source": [
    "linear_constraints = testing_model.find_matching_linear_constraints('input')\n",
    "linear_constraints"
   ]
  },
  {
   "cell_type": "code",
   "execution_count": 162,
   "metadata": {},
   "outputs": [],
   "source": [
    "#print(testing_model.export_as_lp_string())"
   ]
  },
  {
   "cell_type": "code",
   "execution_count": 163,
   "metadata": {},
   "outputs": [],
   "source": [
    "def log_and_improve_explanation(minimal_explanation: list, epsilon: float):\n",
    "\tfor constraint in minimal_explanation:\n",
    "\t\ttesting_model.solve()\n",
    "\t\tprint('Initial constraint:' + '\\t', constraint)\n",
    "\n",
    "\t\tvariable = constraint.lhs\n",
    "\t\twhile testing_model.solution is None:\n",
    "\t\t\tif constraint.sense == docplex.mp.constants.ComparisonType.LE:\n",
    "\t\t\t\tif constraint.rhs.constant <= variable.ub:\n",
    "\t\t\t\t\tconstraint.rhs += epsilon\n",
    "\t\t\t\telse:\n",
    "\t\t\t\t\tbreak\n",
    "\t\t\telif constraint.sense == docplex.mp.constants.ComparisonType.GE:\n",
    "\t\t\t\tif constraint.rhs.constant >= variable.lb:\n",
    "\t\t\t\t\tconstraint.rhs -= epsilon\n",
    "\t\t\t\telse:\n",
    "\t\t\t\t\tbreak\n",
    "\t\t\telse:\n",
    "\t\t\t\traise Exception('Constraint sense was neither LE nor GE')\n",
    "\n",
    "\t\t\ttesting_model.solve()\n",
    "\n",
    "\t\t# Undo last operation\n",
    "\t\tif constraint.sense == docplex.mp.constants.ComparisonType.LE:\n",
    "\t\t\tconstraint.rhs -= epsilon\n",
    "\t\telif constraint.sense == docplex.mp.constants.ComparisonType.GE:\n",
    "\t\t\tconstraint.rhs += epsilon\n",
    "\n",
    "\t\tprint('Final constraint:' + '\\t', constraint)\n",
    "\t\tprint()"
   ]
  },
  {
   "cell_type": "code",
   "execution_count": 164,
   "metadata": {},
   "outputs": [],
   "source": [
    "def find_bounds(minimal_explanation: list):\n",
    "    for constraint in minimal_explanation:\n",
    "        #testing_model.solve()\n",
    "        print('Initial constraint:' + '\\t', constraint)\n",
    "\n",
    "        variable = constraint.lhs\n",
    "        print(f\"variable {variable} ub {variable.ub}\")\n",
    "        print(f\"variable {variable} lb {variable.lb}\")\n",
    "\n",
    "def find_constraints(minimal_explanation: list):\n",
    "    for constraint in minimal_explanation:\n",
    "        print(constraint)\n",
    "        if constraint.sense == docplex.mp.constants.ComparisonType.GE:\n",
    "            print('\\n')"
   ]
  },
  {
   "cell_type": "code",
   "execution_count": 165,
   "metadata": {},
   "outputs": [
    {
     "data": {
      "text/plain": [
       "'\\nfor constraint in linear_constraints:\\n    variable = constraint.lhs\\n    constraint_val = constraint.rhs\\n    constraint_type = constraint.sense\\n    print(f\"{constraint}, Variable: {variable}, Constraint Value: {constraint_val}, constraint_type: {constraint_type}\")\\n    constraint.rhs.add(-constraint_val + 100)\\n    print(f\"NEW: {constraint}\")\\n'"
      ]
     },
     "execution_count": 165,
     "metadata": {},
     "output_type": "execute_result"
    }
   ],
   "source": [
    "'''\n",
    "for constraint in linear_constraints:\n",
    "    variable = constraint.lhs\n",
    "    constraint_val = constraint.rhs\n",
    "    constraint_type = constraint.sense\n",
    "    print(f\"{constraint}, Variable: {variable}, Constraint Value: {constraint_val}, constraint_type: {constraint_type}\")\n",
    "    constraint.rhs.add(-constraint_val + 100)\n",
    "    print(f\"NEW: {constraint}\")\n",
    "'''"
   ]
  },
  {
   "cell_type": "code",
   "execution_count": 166,
   "metadata": {},
   "outputs": [],
   "source": [
    "def find_ranges(minimal_explanation: list, epsilon: float):\n",
    "    constraint_LE = None\n",
    "    constraint_GE = None\n",
    "    for i, constraint in enumerate(minimal_explanation):\n",
    "        print('Initial constraint:' + '\\t', constraint)\n",
    "\n",
    "        variable = constraint.lhs\n",
    "        constraint_val = constraint.rhs.constant\n",
    "        #Check if its a (var <= value) constraint\n",
    "        if constraint.sense == docplex.mp.constants.ComparisonType.LE: \n",
    "            #the value in(var <= value) is set to the maximum possible, i.e. the upper bound\n",
    "            constraint.rhs = variable.ub\n",
    "            print(f\"LE constraint set to upper bound {variable.ub} --> {constraint}\")\n",
    "            \n",
    "            testing_model.minimize(variable)            \n",
    "            sol = testing_model.solve()\n",
    "            if sol:\n",
    "                print(f\"Changed class with value = {testing_model.objective_value}\")\n",
    "                print(f\"Diference between original value and solver found value: {abs(constraint_val) - abs(testing_model.objective_value)}\")\n",
    "                print(f\"Epsilon >= Diference? {abs(abs(constraint_val) - abs(testing_model.objective_value)) <= epsilon}\")\n",
    "                if constraint_val <= (testing_model.objective_value - epsilon):\n",
    "                    print(constraint_val, (testing_model.objective_value - epsilon))\n",
    "                    constraint_LE = testing_model.objective_value - epsilon\n",
    "                    \n",
    "                else:\n",
    "                    print(\"Entenred Validation Else for Min\")\n",
    "                    constraint_LE = constraint_val\n",
    "                    \n",
    "            else:\n",
    "                print(f\"Class not changed\")\n",
    "                constraint_LE = variable.ub\n",
    "            constraint.rhs = constraint_val\n",
    "            print(f\"Reseted constraint to {constraint_val} --> {constraint} \")\n",
    "            \n",
    "\n",
    "        #Check if its a (var >= value)\n",
    "        elif constraint.sense == docplex.mp.constants.ComparisonType.GE:\n",
    "            constraint.rhs = variable.lb\n",
    "            print(f\"GE constraint set to lower bound {variable.lb} --> {constraint}\")\n",
    "            \n",
    "            testing_model.maximize(variable)            \n",
    "            sol = testing_model.solve()\n",
    "            if sol:\n",
    "                print(f\"Changed class with value = {testing_model.objective_value}\")\n",
    "                print(f\"Diference between original value and solver found value: {abs(constraint_val) - abs(testing_model.objective_value)}\")\n",
    "                print(f\"Epsilon >= Diference? {abs(abs(constraint_val) - abs(testing_model.objective_value)) <= epsilon}\")\n",
    "                if constraint_val >= (testing_model.objective_value + epsilon):\n",
    "                    constraint_GE = testing_model.objective_value + epsilon\n",
    "                else:\n",
    "                    print(\"Entered Validation Else for Max\")\n",
    "                    constraint_GE = constraint_val\n",
    "            else:\n",
    "                print(f\"Class not changed\")\n",
    "                constraint_GE = variable.lb\n",
    "\n",
    "            \n",
    "            print(constraint_LE, variable.ub, constraint_LE == variable.ub)\n",
    "            print(constraint_GE, variable.lb, constraint_GE == variable.lb)\n",
    "            if (constraint_LE and constraint_GE) :\n",
    "                \n",
    "                if constraint_GE != variable.lb:\n",
    "                    constraint.rhs = constraint_GE\n",
    "                    \n",
    "                else:\n",
    "                    constraint.rhs = variable.lb\n",
    "                    \n",
    "                if constraint_LE != variable.ub:\n",
    "                    minimal_explanation[i-1].rhs = constraint_LE\n",
    "                else:\n",
    "                    minimal_explanation[i-1].rhs = variable.ub\n",
    "                    \n",
    "                constraint_LE = None\n",
    "                constraint_GE = None\n",
    "                print(f\"UPDATED Bounds for {variable}: {constraint.rhs.constant}, {minimal_explanation[i-1].rhs.constant}\")\n",
    "                print(minimal_explanation[i-1])\n",
    "                print(constraint)\n",
    "                \n",
    "            else:\n",
    "\n",
    "                print(\"FAILED\")\n",
    "        else:\n",
    "            raise Exception('Constraint sense was neither LE nor GE')\n",
    "        print(\"\\n\")\n",
    "            \n",
    "            "
   ]
  },
  {
   "cell_type": "code",
   "execution_count": 167,
   "metadata": {},
   "outputs": [
    {
     "name": "stdout",
     "output_type": "stream",
     "text": [
      "Initial constraint:\t input LE: x_0 <= 2.967691214515491\n",
      "LE constraint set to upper bound 5.1279016612406805 --> input LE: x_0 <= 5.1279016612406805\n",
      "Class not changed\n",
      "Reseted constraint to 2.967691214515491 --> input LE: x_0 <= 2.967691214515491 \n",
      "\n",
      "\n",
      "Initial constraint:\t input GE: x_0 >= 2.967691214515491\n",
      "GE constraint set to lower bound -2.343651902203461 --> input GE: x_0 >= -2.343651902203461\n",
      "Changed class with value = 1.4235358259063398\n",
      "Diference between original value and solver found value: 1.5441553886091512\n",
      "Epsilon >= Diference? False\n",
      "5.1279016612406805 5.1279016612406805 True\n",
      "1.4235458259063398 -2.343651902203461 False\n",
      "UPDATED Bounds for x_0: 1.4235458259063398, 5.1279016612406805\n",
      "input LE: x_0 <= 5.1279016612406805\n",
      "input GE: x_0 >= 1.4235458259063398\n",
      "\n",
      "\n",
      "Initial constraint:\t input LE: x_3 <= -1.408120229258977\n",
      "LE constraint set to upper bound 4.136918742833424 --> input LE: x_3 <= 4.136918742833424\n",
      "Changed class with value = -1.408115213286492\n",
      "Diference between original value and solver found value: 5.015972484923026e-06\n",
      "Epsilon >= Diference? True\n",
      "Entenred Validation Else for Min\n",
      "Reseted constraint to -1.408120229258977 --> input LE: x_3 <= -1.408120229258977 \n",
      "\n",
      "\n",
      "Initial constraint:\t input GE: x_3 >= -1.408120229258977\n",
      "GE constraint set to lower bound -2.335654020954433 --> input GE: x_3 >= -2.335654020954433\n",
      "Changed class with value = -1.408120229258977\n",
      "Diference between original value and solver found value: 0.0\n",
      "Epsilon >= Diference? True\n",
      "Entered Validation Else for Max\n",
      "-1.408120229258977 4.136918742833424 False\n",
      "-1.408120229258977 -2.335654020954433 False\n",
      "UPDATED Bounds for x_3: -1.408120229258977, -1.408120229258977\n",
      "input LE: x_3 <= -1.408120229258977\n",
      "input GE: x_3 >= -1.408120229258977\n",
      "\n",
      "\n",
      "Initial constraint:\t input LE: x_5 <= -0.790702170757714\n",
      "LE constraint set to upper bound 8.672524288611543 --> input LE: x_5 <= 8.672524288611543\n",
      "Changed class with value = -0.7906929729906053\n",
      "Diference between original value and solver found value: 9.197767108726218e-06\n",
      "Epsilon >= Diference? True\n",
      "Entenred Validation Else for Min\n",
      "Reseted constraint to -0.790702170757714 --> input LE: x_5 <= -0.790702170757714 \n",
      "\n",
      "\n",
      "Initial constraint:\t input GE: x_5 >= -0.790702170757714\n",
      "GE constraint set to lower bound -0.790702170757714 --> input GE: x_5 >= -0.790702170757714\n",
      "Changed class with value = -0.790702170757714\n",
      "Diference between original value and solver found value: 0.0\n",
      "Epsilon >= Diference? True\n",
      "Entered Validation Else for Max\n",
      "-0.790702170757714 8.672524288611543 False\n",
      "-0.790702170757714 -0.790702170757714 True\n",
      "UPDATED Bounds for x_5: -0.790702170757714, -0.790702170757714\n",
      "input LE: x_5 <= -0.790702170757714\n",
      "input GE: x_5 >= -0.790702170757714\n",
      "\n",
      "\n",
      "Initial constraint:\t input LE: x_6 <= 4.24127975754059\n",
      "LE constraint set to upper bound 5.107769273886023 --> input LE: x_6 <= 5.107769273886023\n",
      "Changed class with value = 4.241292948442029\n",
      "Diference between original value and solver found value: -1.31909014395859e-05\n",
      "Epsilon >= Diference? False\n",
      "4.24127975754059 4.24128294844203\n",
      "Reseted constraint to 4.24127975754059 --> input LE: x_6 <= 4.24127975754059 \n",
      "\n",
      "\n",
      "Initial constraint:\t input GE: x_6 >= 4.24127975754059\n",
      "GE constraint set to lower bound -2.472252836582964 --> input GE: x_6 >= -2.472252836582964\n",
      "Changed class with value = 4.24127975754059\n",
      "Diference between original value and solver found value: 0.0\n",
      "Epsilon >= Diference? True\n",
      "Entered Validation Else for Max\n",
      "4.24128294844203 5.107769273886023 False\n",
      "4.24127975754059 -2.472252836582964 False\n",
      "UPDATED Bounds for x_6: 4.24127975754059, 4.24128294844203\n",
      "input LE: x_6 <= 4.24128294844203\n",
      "input GE: x_6 >= 4.24127975754059\n",
      "\n",
      "\n",
      "Initial constraint:\t input LE: x_7 <= -0.3615292659832898\n",
      "LE constraint set to upper bound 5.870652354644297 --> input LE: x_7 <= 5.870652354644297\n",
      "Changed class with value = -0.3615244309372985\n",
      "Diference between original value and solver found value: 4.835045991302689e-06\n",
      "Epsilon >= Diference? True\n",
      "Entenred Validation Else for Min\n",
      "Reseted constraint to -0.3615292659832898 --> input LE: x_7 <= -0.3615292659832898 \n",
      "\n",
      "\n",
      "Initial constraint:\t input GE: x_7 >= -0.3615292659832898\n",
      "GE constraint set to lower bound -0.3615292659832898 --> input GE: x_7 >= -0.3615292659832898\n",
      "Class not changed\n",
      "-0.3615292659832898 5.870652354644297 False\n",
      "-0.3615292659832898 -0.3615292659832898 True\n",
      "UPDATED Bounds for x_7: -0.3615292659832898, -0.3615292659832898\n",
      "input LE: x_7 <= -0.3615292659832898\n",
      "input GE: x_7 >= -0.3615292659832898\n",
      "\n",
      "\n",
      "Initial constraint:\t input LE: x_8 <= -0.6037614142464092\n",
      "LE constraint set to upper bound 4.570275951283269 --> input LE: x_8 <= 4.570275951283269\n",
      "Changed class with value = -0.6037614142464092\n",
      "Diference between original value and solver found value: 0.0\n",
      "Epsilon >= Diference? True\n",
      "Entenred Validation Else for Min\n",
      "Reseted constraint to -0.6037614142464092 --> input LE: x_8 <= -0.6037614142464092 \n",
      "\n",
      "\n",
      "Initial constraint:\t input GE: x_8 >= -0.6037614142464092\n",
      "GE constraint set to lower bound -0.6037614142464092 --> input GE: x_8 >= -0.6037614142464092\n",
      "Changed class with value = -0.6037614142464092\n",
      "Diference between original value and solver found value: 0.0\n",
      "Epsilon >= Diference? True\n",
      "Entered Validation Else for Max\n",
      "-0.6037614142464092 4.570275951283269 False\n",
      "-0.6037614142464092 -0.6037614142464092 True\n",
      "UPDATED Bounds for x_8: -0.6037614142464092, -0.6037614142464092\n",
      "input LE: x_8 <= -0.6037614142464092\n",
      "input GE: x_8 >= -0.6037614142464092\n",
      "\n",
      "\n"
     ]
    }
   ],
   "source": [
    "#find_bounds(linear_constraints)\n",
    "find_ranges(linear_constraints, epsilon = 0.00001)"
   ]
  },
  {
   "cell_type": "code",
   "execution_count": 149,
   "metadata": {},
   "outputs": [
    {
     "data": {
      "text/plain": [
       "[docplex.mp.LinearConstraint[input LE](x_0,LE,5.1279016612406805),\n",
       " docplex.mp.LinearConstraint[input GE](x_0,GE,1.4235458259063398),\n",
       " docplex.mp.LinearConstraint[input LE](x_3,LE,-1.408120229258977),\n",
       " docplex.mp.LinearConstraint[input GE](x_3,GE,-1.408120229258977),\n",
       " docplex.mp.LinearConstraint[input LE](x_5,LE,-0.790702170757714),\n",
       " docplex.mp.LinearConstraint[input GE](x_5,GE,-0.790702170757714),\n",
       " docplex.mp.LinearConstraint[input LE](x_6,LE,4.24128294844203),\n",
       " docplex.mp.LinearConstraint[input GE](x_6,GE,4.24127975754059),\n",
       " docplex.mp.LinearConstraint[input LE](x_7,LE,-0.3615292659832898),\n",
       " docplex.mp.LinearConstraint[input GE](x_7,GE,-0.3615292659832898),\n",
       " docplex.mp.LinearConstraint[input LE](x_8,LE,-0.6037614142464092),\n",
       " docplex.mp.LinearConstraint[input GE](x_8,GE,-0.6037614142464092)]"
      ]
     },
     "execution_count": 149,
     "metadata": {},
     "output_type": "execute_result"
    }
   ],
   "source": [
    "testing_model.find_matching_linear_constraints('input')"
   ]
  },
  {
   "cell_type": "code",
   "execution_count": 155,
   "metadata": {},
   "outputs": [
    {
     "data": {
      "text/plain": [
       "docplex.mp.solution.SolveSolution(obj=1,values={x_0:1.42355,x_1:-3.4547,.."
      ]
     },
     "execution_count": 155,
     "metadata": {},
     "output_type": "execute_result"
    }
   ],
   "source": [
    "testing_model.minimize(1)\n",
    "sol = testing_model.solve()\n",
    "sol"
   ]
  },
  {
   "cell_type": "code",
   "execution_count": 150,
   "metadata": {},
   "outputs": [],
   "source": [
    "#print(testing_model.export_as_lp_string())"
   ]
  },
  {
   "cell_type": "code",
   "execution_count": 134,
   "metadata": {},
   "outputs": [
    {
     "ename": "AttributeError",
     "evalue": "'Var' object has no attribute 'value'",
     "output_type": "error",
     "traceback": [
      "\u001b[0;31m---------------------------------------------------------------------------\u001b[0m",
      "\u001b[0;31mAttributeError\u001b[0m                            Traceback (most recent call last)",
      "\u001b[0;32m/tmp/ipykernel_311067/463655138.py\u001b[0m in \u001b[0;36m<module>\u001b[0;34m\u001b[0m\n\u001b[1;32m      1\u001b[0m \u001b[0;32mfor\u001b[0m \u001b[0mi\u001b[0m \u001b[0;32min\u001b[0m \u001b[0mrange\u001b[0m\u001b[0;34m(\u001b[0m\u001b[0;36m129\u001b[0m\u001b[0;34m,\u001b[0m \u001b[0;36m140\u001b[0m\u001b[0;34m)\u001b[0m\u001b[0;34m:\u001b[0m\u001b[0;34m\u001b[0m\u001b[0;34m\u001b[0m\u001b[0m\n\u001b[0;32m----> 2\u001b[0;31m     \u001b[0mprint\u001b[0m\u001b[0;34m(\u001b[0m\u001b[0;34m(\u001b[0m\u001b[0mtesting_model\u001b[0m\u001b[0;34m.\u001b[0m\u001b[0mget_var_by_index\u001b[0m\u001b[0;34m(\u001b[0m\u001b[0mi\u001b[0m\u001b[0;34m)\u001b[0m\u001b[0;34m)\u001b[0m\u001b[0;34m,\u001b[0m \u001b[0mtesting_model\u001b[0m\u001b[0;34m.\u001b[0m\u001b[0mget_var_by_index\u001b[0m\u001b[0;34m(\u001b[0m\u001b[0mi\u001b[0m\u001b[0;34m)\u001b[0m\u001b[0;34m.\u001b[0m\u001b[0mvalue\u001b[0m\u001b[0;34m)\u001b[0m\u001b[0;34m\u001b[0m\u001b[0;34m\u001b[0m\u001b[0m\n\u001b[0m",
      "\u001b[0;31mAttributeError\u001b[0m: 'Var' object has no attribute 'value'"
     ]
    }
   ],
   "source": [
    "for i in range(129, 140):\n",
    "    print((testing_model.get_var_by_index(i)), testing_model.get_var_by_index(i).value)"
   ]
  },
  {
   "cell_type": "code",
   "execution_count": 151,
   "metadata": {},
   "outputs": [
    {
     "data": {
      "text/plain": [
       "(docplex.mp.Var(type=C,name='o_0',lb=-4.02821,ub=5.56993),\n",
       " docplex.mp.Var(type=C,name='o_1',lb=-2.58205,ub=8.58841),\n",
       " docplex.mp.Var(type=C,name='o_2',lb=-9.76166,ub=5.40934),\n",
       " docplex.mp.Var(type=C,name='o_3',lb=-6.57575,ub=10.7016),\n",
       " docplex.mp.Var(type=C,name='o_4',lb=-8.34348,ub=13.5825))"
      ]
     },
     "execution_count": 151,
     "metadata": {},
     "output_type": "execute_result"
    }
   ],
   "source": [
    "testing_model.get_var_by_index(129), testing_model.get_var_by_index(130), testing_model.get_var_by_index(131), testing_model.get_var_by_index(132), testing_model.get_var_by_index(133)"
   ]
  },
  {
   "cell_type": "code",
   "execution_count": 168,
   "metadata": {},
   "outputs": [
    {
     "name": "stdout",
     "output_type": "stream",
     "text": [
      "(docplex.mp.Var(type=C,name='x_0',lb=-2.34365,ub=5.1279), 1.4235458259063398)\n",
      "(docplex.mp.Var(type=C,name='x_1',lb=-3.4547,ub=3.20854), -3.454697800980477)\n",
      "(docplex.mp.Var(type=C,name='x_2',lb=-1.9278,ub=1.22542), -1.9277991250773103)\n",
      "(docplex.mp.Var(type=C,name='x_3',lb=-2.33565,ub=4.13692), -1.408120229258977)\n",
      "(docplex.mp.Var(type=C,name='x_4',lb=-3.75136,ub=3.40098), 2.322159623082899)\n",
      "(docplex.mp.Var(type=C,name='x_5',lb=-0.790702,ub=8.67252), -0.790702170757714)\n",
      "(docplex.mp.Var(type=C,name='x_6',lb=-2.47225,ub=5.10777), 4.24128294844203)\n",
      "(docplex.mp.Var(type=C,name='x_7',lb=-0.361529,ub=5.87065), -0.3615292659832898)\n",
      "(docplex.mp.Var(type=C,name='x_8',lb=-0.603761,ub=4.57028), -0.6037614142464092)\n",
      "(docplex.mp.Var(type=C,name='y_0_1',ub=4.79992), 0.968703634902088)\n",
      "(docplex.mp.Var(type=C,name='y_0_2',ub=9.89208), 2.0690504768469284)\n",
      "(docplex.mp.Var(type=C,name='y_0_3',ub=5.75591), 2.173907716541208)\n",
      "(docplex.mp.Var(type=C,name='y_0_5',ub=12.35), 0.6352030764746257)\n",
      "(docplex.mp.Var(type=C,name='y_0_6',ub=9.04947), 1.4597601115786412)\n",
      "(docplex.mp.Var(type=C,name='y_0_11',ub=8.5177), 3.6814492527325684)\n",
      "(docplex.mp.Var(type=C,name='y_0_12',ub=5.29474), 2.2324855735651083)\n",
      "(docplex.mp.Var(type=C,name='y_0_14',ub=8.50981), 1.652843235167012e-05)\n",
      "(docplex.mp.Var(type=C,name='y_0_16',ub=6.77975), 1.3455873580100386)\n",
      "(docplex.mp.Var(type=C,name='y_0_17',ub=6.07285), 0.3389929110145642)\n",
      "(docplex.mp.Var(type=C,name='y_0_18',ub=9.32276), 1.8114665033040525)\n",
      "(docplex.mp.Var(type=C,name='y_0_19',ub=3.5945), 2.239163785245336)\n",
      "(docplex.mp.Var(type=C,name='s_0_0',ub=7.70282), 2.8136828701036407)\n",
      "(docplex.mp.Var(type=C,name='s_0_4',ub=4.70854), 2.5280634708986716)\n",
      "(docplex.mp.Var(type=C,name='s_0_7',ub=7.71549), 1.8888844030161485)\n",
      "(docplex.mp.Var(type=C,name='s_0_8',ub=9.56167), 0.872352833620536)\n",
      "(docplex.mp.Var(type=C,name='s_0_9',ub=7.90637), 2.024927934682955)\n",
      "(docplex.mp.Var(type=C,name='s_0_10',ub=13.426), 1.24911834146523)\n",
      "(docplex.mp.Var(type=C,name='s_0_13',ub=7.22591), 0.10042164949246657)\n",
      "(docplex.mp.Var(type=C,name='s_0_14',ub=6.80394), 1.4143482768816416)\n",
      "(docplex.mp.Var(type=C,name='s_0_15',ub=7.81634), 0.4251789068641287)\n",
      "(docplex.mp.Var(type=B,name='a_0_0'), 1.0)\n",
      "(docplex.mp.Var(type=B,name='a_0_4'), 1.0)\n",
      "(docplex.mp.Var(type=B,name='a_0_7'), 1.0)\n",
      "(docplex.mp.Var(type=B,name='a_0_8'), 1.0)\n",
      "(docplex.mp.Var(type=B,name='a_0_9'), 1.0)\n",
      "(docplex.mp.Var(type=B,name='a_0_10'), 1.0)\n",
      "(docplex.mp.Var(type=B,name='a_0_13'), 1.0)\n",
      "(docplex.mp.Var(type=B,name='a_0_14'), 0.9999970422201403)\n",
      "(docplex.mp.Var(type=B,name='a_0_15'), 1.0)\n",
      "(docplex.mp.Var(type=C,name='y_1_2',ub=8.10081), 0.8383375686568094)\n",
      "(docplex.mp.Var(type=C,name='y_1_3',ub=12.6417), 3.064457616284081)\n",
      "(docplex.mp.Var(type=C,name='y_1_4',ub=4.68671), 2.4632757579811724)\n",
      "(docplex.mp.Var(type=C,name='y_1_5',ub=4.00831), 1.242896795072625)\n",
      "(docplex.mp.Var(type=C,name='y_1_6',ub=4.39102), 0.7372590924822562)\n",
      "(docplex.mp.Var(type=C,name='y_1_7',ub=5.74582), 0.3021977054468309)\n",
      "(docplex.mp.Var(type=C,name='y_1_10',ub=9.17147), 0.8198758112744822)\n",
      "(docplex.mp.Var(type=C,name='y_1_11',ub=6.85714), 1.9124674396313732)\n",
      "(docplex.mp.Var(type=C,name='y_1_14',ub=8.26538), 3.2793303942073884)\n",
      "(docplex.mp.Var(type=C,name='y_1_18',ub=7.54695), 3.9500267028709497)\n",
      "(docplex.mp.Var(type=C,name='s_1_0',ub=6.21431), 1.4285128089734713)\n",
      "(docplex.mp.Var(type=C,name='s_1_1',ub=6.38115), 2.439433518943607)\n",
      "(docplex.mp.Var(type=C,name='s_1_8',ub=3.74978), 0.5287062219551983)\n",
      "(docplex.mp.Var(type=C,name='s_1_9',ub=4.30315), 1.3864905226182853)\n",
      "(docplex.mp.Var(type=C,name='s_1_12',ub=3.67491), 0.5721306775700676)\n",
      "(docplex.mp.Var(type=C,name='s_1_15',ub=3.85346), 2.069880253128249)\n",
      "(docplex.mp.Var(type=C,name='s_1_16',ub=2.74081), 0.18176183047748)\n",
      "(docplex.mp.Var(type=C,name='s_1_17',ub=6.56189), 2.243723311243613)\n",
      "(docplex.mp.Var(type=C,name='s_1_19',ub=7.49839), 3.2872821335553395)\n",
      "(docplex.mp.Var(type=B,name='a_1_0'), 1.0)\n",
      "(docplex.mp.Var(type=B,name='a_1_1'), 1.0)\n",
      "(docplex.mp.Var(type=B,name='a_1_8'), 1.0)\n",
      "(docplex.mp.Var(type=B,name='a_1_9'), 1.0)\n",
      "(docplex.mp.Var(type=B,name='a_1_12'), 1.0)\n",
      "(docplex.mp.Var(type=B,name='a_1_15'), 1.0)\n",
      "(docplex.mp.Var(type=B,name='a_1_16'), 1.0)\n",
      "(docplex.mp.Var(type=B,name='a_1_17'), 1.0)\n",
      "(docplex.mp.Var(type=B,name='a_1_19'), 1.0)\n",
      "(docplex.mp.Var(type=C,name='o_0',lb=-4.02821,ub=5.56993), -1.6539249601750474)\n",
      "(docplex.mp.Var(type=C,name='o_1',lb=-2.58205,ub=8.58841), 3.947969300023918)\n",
      "(docplex.mp.Var(type=C,name='o_2',lb=-9.76166,ub=5.40934), -5.9382279407234675)\n",
      "(docplex.mp.Var(type=C,name='o_3',lb=-6.57575,ub=10.7016), 3.947969300023918)\n",
      "(docplex.mp.Var(type=C,name='o_4',lb=-8.34348,ub=13.5825), -4.002060145791721)\n",
      "(docplex.mp.Var(type=B,name='b_2'), 1.0)\n"
     ]
    }
   ],
   "source": [
    "for element in testing_model.solution.iter_var_values():\n",
    "    print(element)"
   ]
  },
  {
   "cell_type": "code",
   "execution_count": 708,
   "metadata": {},
   "outputs": [
    {
     "name": "stdout",
     "output_type": "stream",
     "text": [
      "input LE: x_0 <= 5.1279016612406805\n",
      "input GE: x_0 >= 1.4235458259063398\n",
      "\n",
      "\n",
      "input LE: x_3 <= -1.408120229258977\n",
      "input GE: x_3 >= -1.408120229258977\n",
      "\n",
      "\n",
      "input LE: x_5 <= -0.790702170757714\n",
      "input GE: x_5 >= -0.790702170757714\n",
      "\n",
      "\n",
      "input LE: x_6 <= 4.24128294844203\n",
      "input GE: x_6 >= 4.24127975754059\n",
      "\n",
      "\n",
      "input LE: x_7 <= -0.3615292659832898\n",
      "input GE: x_7 >= -0.3615292659832898\n",
      "\n",
      "\n",
      "input LE: x_8 <= -0.6037614142464092\n",
      "input GE: x_8 >= -0.6037614142464092\n",
      "\n",
      "\n"
     ]
    }
   ],
   "source": [
    "find_constraints(linear_constraints)"
   ]
  },
  {
   "cell_type": "code",
   "execution_count": null,
   "metadata": {
    "tags": []
   },
   "outputs": [
    {
     "name": "stdout",
     "output_type": "stream",
     "text": [
      "Initial constraint:\t input LE: x_0 <= 2.967691214515491\n"
     ]
    }
   ],
   "source": [
    "log_and_improve_explanation(linear_constraints, epsilon=0.00001)"
   ]
  },
  {
   "cell_type": "code",
   "execution_count": 696,
   "metadata": {},
   "outputs": [
    {
     "data": {
      "text/plain": [
       "[docplex.mp.LinearConstraint[input LE](x_0,LE,5.127691214515754),\n",
       " docplex.mp.LinearConstraint[input GE](x_0,GE,1.423691214515661),\n",
       " docplex.mp.LinearConstraint[input LE](x_3,LE,-1.408120229258977),\n",
       " docplex.mp.LinearConstraint[input GE](x_3,GE,-1.5191202292589647),\n",
       " docplex.mp.LinearConstraint[input LE](x_5,LE,-0.790702170757714),\n",
       " docplex.mp.LinearConstraint[input GE](x_5,GE,-0.790702170757714),\n",
       " docplex.mp.LinearConstraint[input LE](x_6,LE,4.24127975754059),\n",
       " docplex.mp.LinearConstraint[input GE](x_6,GE,4.24127975754059),\n",
       " docplex.mp.LinearConstraint[input LE](x_7,LE,-0.3615292659832898),\n",
       " docplex.mp.LinearConstraint[input GE](x_7,GE,-0.3615292659832898),\n",
       " docplex.mp.LinearConstraint[input LE](x_8,LE,-0.6037614142464092),\n",
       " docplex.mp.LinearConstraint[input GE](x_8,GE,-0.6037614142464092)]"
      ]
     },
     "execution_count": 696,
     "metadata": {},
     "output_type": "execute_result"
    }
   ],
   "source": [
    "linear_constraints = testing_model.find_matching_linear_constraints('input')\n",
    "linear_constraints"
   ]
  },
  {
   "cell_type": "code",
   "execution_count": 269,
   "metadata": {},
   "outputs": [],
   "source": [
    "number_of_inputs = len(dataframe.columns.drop('target'))\n",
    "for i in range(number_of_inputs):\n",
    "\tconstraints_of_x_i = filter(lambda x: x.lhs.name == f'x_{i}', linear_constraints)\n",
    "\tconstraints = [c for c in constraints_of_x_i]\n",
    "\n",
    "\tif len(constraints) == 2:\n",
    "\t\tif constraints[0].rhs.constant == constraints[1].rhs.constant:\n",
    "\t\t\ttesting_model.remove_constraints(constraints)\n",
    "\t\t\ttesting_model.add_constraint(constraints[0].lhs == constraints[0].rhs, 'input')"
   ]
  },
  {
   "cell_type": "code",
   "execution_count": 270,
   "metadata": {},
   "outputs": [
    {
     "data": {
      "text/plain": [
       "[docplex.mp.LinearConstraint[input LE](x_0,LE,5.1279016612406805),\n",
       " docplex.mp.LinearConstraint[input GE](x_0,GE,-2.3420983387592487),\n",
       " docplex.mp.LinearConstraint[input LE](x_0,LE,5.126348097796468),\n",
       " docplex.mp.LinearConstraint[input GE](x_0,GE,-2.343651902203461),\n",
       " docplex.mp.LinearConstraint[input LE](x_3,LE,4.136918742833424),\n",
       " docplex.mp.LinearConstraint[input GE](x_3,GE,-2.3330812571665267),\n",
       " docplex.mp.LinearConstraint[input LE](x_3,LE,4.134345979045517),\n",
       " docplex.mp.LinearConstraint[input GE](x_3,GE,-2.335654020954433),\n",
       " docplex.mp.LinearConstraint[input LE](x_5,LE,8.672524288611543),\n",
       " docplex.mp.LinearConstraint[input GE](x_5,GE,-0.7874757113883172),\n",
       " docplex.mp.LinearConstraint[input LE](x_5,LE,8.669297829242147),\n",
       " docplex.mp.LinearConstraint[input GE](x_5,GE,-0.790702170757714),\n",
       " docplex.mp.LinearConstraint[input LE](x_6,LE,5.107769273886023),\n",
       " docplex.mp.LinearConstraint[input GE](x_6,GE,-2.4722307261139034),\n",
       " docplex.mp.LinearConstraint[input LE](x_6,LE,5.107747163416963),\n",
       " docplex.mp.LinearConstraint[input GE](x_6,GE,-2.472252836582964),\n",
       " docplex.mp.LinearConstraint[input LE](x_7,LE,5.870652354644297),\n",
       " docplex.mp.LinearConstraint[input GE](x_7,GE,-0.3593476453556225),\n",
       " docplex.mp.LinearConstraint[input LE](x_7,LE,5.86847073401663),\n",
       " docplex.mp.LinearConstraint[input GE](x_7,GE,-0.3615292659832898),\n",
       " docplex.mp.LinearConstraint[input LE](x_8,LE,4.570275951283269),\n",
       " docplex.mp.LinearConstraint[input GE](x_8,GE,-0.5997240487166785),\n",
       " docplex.mp.LinearConstraint[input LE](x_8,LE,-0.6037614142464092),\n",
       " docplex.mp.LinearConstraint[input GE](x_8,GE,-0.6037614142464092)]"
      ]
     },
     "execution_count": 270,
     "metadata": {},
     "output_type": "execute_result"
    }
   ],
   "source": [
    "improved_explanation = testing_model.find_matching_linear_constraints('input')\n",
    "improved_explanation"
   ]
  },
  {
   "cell_type": "code",
   "execution_count": null,
   "metadata": {},
   "outputs": [],
   "source": []
  }
 ],
 "metadata": {
  "kernelspec": {
   "display_name": "venv",
   "language": "python",
   "name": "venv"
  },
  "language_info": {
   "codemirror_mode": {
    "name": "ipython",
    "version": 3
   },
   "file_extension": ".py",
   "mimetype": "text/x-python",
   "name": "python",
   "nbconvert_exporter": "python",
   "pygments_lexer": "ipython3",
   "version": "3.9.13"
  }
 },
 "nbformat": 4,
 "nbformat_minor": 4
}
