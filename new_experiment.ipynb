{
 "cells": [
  {
   "cell_type": "markdown",
   "metadata": {},
   "source": [
    "# Experiments"
   ]
  },
  {
   "cell_type": "code",
   "execution_count": null,
   "metadata": {},
   "outputs": [],
   "source": [
    "#!pip install tensorflow==2.10.0\n",
    "#!pip install docplex\n",
    "#!pip install cplex"
   ]
  },
  {
   "cell_type": "code",
   "execution_count": 1,
   "metadata": {},
   "outputs": [
    {
     "name": "stderr",
     "output_type": "stream",
     "text": [
      "2023-06-19 14:09:31.579025: I tensorflow/core/platform/cpu_feature_guard.cc:193] This TensorFlow binary is optimized with oneAPI Deep Neural Network Library (oneDNN) to use the following CPU instructions in performance-critical operations:  AVX2 FMA\n",
      "To enable them in other operations, rebuild TensorFlow with the appropriate compiler flags.\n",
      "2023-06-19 14:09:31.672991: W tensorflow/stream_executor/platform/default/dso_loader.cc:64] Could not load dynamic library 'libcudart.so.11.0'; dlerror: libcudart.so.11.0: cannot open shared object file: No such file or directory\n",
      "2023-06-19 14:09:31.673007: I tensorflow/stream_executor/cuda/cudart_stub.cc:29] Ignore above cudart dlerror if you do not have a GPU set up on your machine.\n",
      "2023-06-19 14:09:31.694725: E tensorflow/stream_executor/cuda/cuda_blas.cc:2981] Unable to register cuBLAS factory: Attempting to register factory for plugin cuBLAS when one has already been registered\n",
      "2023-06-19 14:09:32.194150: W tensorflow/stream_executor/platform/default/dso_loader.cc:64] Could not load dynamic library 'libnvinfer.so.7'; dlerror: libnvinfer.so.7: cannot open shared object file: No such file or directory\n",
      "2023-06-19 14:09:32.194210: W tensorflow/stream_executor/platform/default/dso_loader.cc:64] Could not load dynamic library 'libnvinfer_plugin.so.7'; dlerror: libnvinfer_plugin.so.7: cannot open shared object file: No such file or directory\n",
      "2023-06-19 14:09:32.194217: W tensorflow/compiler/tf2tensorrt/utils/py_utils.cc:38] TF-TRT Warning: Cannot dlopen some TensorRT libraries. If you would like to use Nvidia GPU with TensorRT, please make sure the missing libraries mentioned above are installed properly.\n"
     ]
    }
   ],
   "source": [
    "import pandas as pd\n",
    "import tensorflow as tf\n",
    "\n",
    "from milp import codify_network\n",
    "from teste import get_minimal_explanation\n",
    "\n",
    "# For type annotations\n",
    "import numpy as np"
   ]
  },
  {
   "cell_type": "code",
   "execution_count": 2,
   "metadata": {},
   "outputs": [
    {
     "name": "stderr",
     "output_type": "stream",
     "text": [
      "2023-06-19 14:09:33.617634: I tensorflow/stream_executor/cuda/cuda_gpu_executor.cc:980] successful NUMA node read from SysFS had negative value (-1), but there must be at least one NUMA node, so returning NUMA node zero\n",
      "2023-06-19 14:09:33.618137: W tensorflow/stream_executor/platform/default/dso_loader.cc:64] Could not load dynamic library 'libcudart.so.11.0'; dlerror: libcudart.so.11.0: cannot open shared object file: No such file or directory\n",
      "2023-06-19 14:09:33.618258: W tensorflow/stream_executor/platform/default/dso_loader.cc:64] Could not load dynamic library 'libcublas.so.11'; dlerror: libcublas.so.11: cannot open shared object file: No such file or directory\n",
      "2023-06-19 14:09:33.618370: W tensorflow/stream_executor/platform/default/dso_loader.cc:64] Could not load dynamic library 'libcublasLt.so.11'; dlerror: libcublasLt.so.11: cannot open shared object file: No such file or directory\n",
      "2023-06-19 14:09:33.618481: W tensorflow/stream_executor/platform/default/dso_loader.cc:64] Could not load dynamic library 'libcufft.so.10'; dlerror: libcufft.so.10: cannot open shared object file: No such file or directory\n",
      "2023-06-19 14:09:33.618589: W tensorflow/stream_executor/platform/default/dso_loader.cc:64] Could not load dynamic library 'libcurand.so.10'; dlerror: libcurand.so.10: cannot open shared object file: No such file or directory\n",
      "2023-06-19 14:09:33.618700: W tensorflow/stream_executor/platform/default/dso_loader.cc:64] Could not load dynamic library 'libcusolver.so.11'; dlerror: libcusolver.so.11: cannot open shared object file: No such file or directory\n",
      "2023-06-19 14:09:33.618807: W tensorflow/stream_executor/platform/default/dso_loader.cc:64] Could not load dynamic library 'libcusparse.so.11'; dlerror: libcusparse.so.11: cannot open shared object file: No such file or directory\n",
      "2023-06-19 14:09:33.618915: W tensorflow/stream_executor/platform/default/dso_loader.cc:64] Could not load dynamic library 'libcudnn.so.8'; dlerror: libcudnn.so.8: cannot open shared object file: No such file or directory\n",
      "2023-06-19 14:09:33.618932: W tensorflow/core/common_runtime/gpu/gpu_device.cc:1934] Cannot dlopen some GPU libraries. Please make sure the missing libraries mentioned above are installed properly if you would like to use GPU. Follow the guide at https://www.tensorflow.org/install/gpu for how to download and setup the required libraries for your platform.\n",
      "Skipping registering GPU devices...\n",
      "2023-06-19 14:09:33.619996: I tensorflow/core/platform/cpu_feature_guard.cc:193] This TensorFlow binary is optimized with oneAPI Deep Neural Network Library (oneDNN) to use the following CPU instructions in performance-critical operations:  AVX2 FMA\n",
      "To enable them in other operations, rebuild TensorFlow with the appropriate compiler flags.\n"
     ]
    }
   ],
   "source": [
    "dataset_name = 'glass'\n",
    "\n",
    "training_data = pd.read_csv(f'datasets/{dataset_name}/train.csv')\n",
    "testing_data = pd.read_csv(f'datasets/{dataset_name}/test.csv')\n",
    "\n",
    "dataframe = pd.concat([training_data, testing_data])\n",
    "\n",
    "keras_model = tf.keras.models.load_model(f'datasets/{dataset_name}/model_2layers_{dataset_name}.h5')\n",
    "\n",
    "data = dataframe.to_numpy()\n",
    "n_classes = dataframe['target'].nunique()"
   ]
  },
  {
   "cell_type": "code",
   "execution_count": 3,
   "metadata": {},
   "outputs": [],
   "source": [
    "mp_model, output_bounds = codify_network(keras_model, dataframe, 'fischetti', relax_constraints=False)"
   ]
  },
  {
   "cell_type": "code",
   "execution_count": 4,
   "metadata": {},
   "outputs": [],
   "source": [
    "#print(mp_model.export_as_lp_string())"
   ]
  },
  {
   "cell_type": "code",
   "execution_count": 5,
   "metadata": {},
   "outputs": [
    {
     "name": "stdout",
     "output_type": "stream",
     "text": [
      "i = 138\n",
      "1/1 [==============================] - 0s 93ms/step\n",
      "1/1 [==============================] - 0s 14ms/step\n",
      "Predictions: (ndarray[ndarray[<class 'numpy.float32'>]]) 0.0007575714\n",
      "Network output: (<class 'numpy.int64'>) 1\n"
     ]
    }
   ],
   "source": [
    "# i = 134 is also a nice value to study\n",
    "i = 138\n",
    "print('i =', i)\n",
    "network_input = data[i, :-1]\n",
    "network_input = tf.reshape(tf.constant(network_input), [1, -1])\n",
    "network_output = keras_model.predict(tf.constant(network_input))[0]\n",
    "network_output = tf.argmax(network_output)\n",
    "\n",
    "predictions = keras_model.predict(tf.constant(network_input))[0, 0]\n",
    "\n",
    "print(f'Predictions: (ndarray[ndarray[{type(predictions)}]])', predictions)\n",
    "classification: np.int64 = network_output.numpy()\n",
    "print(f'Network output: ({type(classification)})', classification)"
   ]
  },
  {
   "cell_type": "code",
   "execution_count": 6,
   "metadata": {},
   "outputs": [
    {
     "data": {
      "text/plain": [
       "[docplex.mp.LinearConstraint[input1](x_0,EQ,2.967691214515491),\n",
       " docplex.mp.LinearConstraint[input4](x_3,EQ,-1.408120229258977),\n",
       " docplex.mp.LinearConstraint[input6](x_5,EQ,-0.790702170757714),\n",
       " docplex.mp.LinearConstraint[input7](x_6,EQ,4.24127975754059),\n",
       " docplex.mp.LinearConstraint[input8](x_7,EQ,-0.3615292659832898),\n",
       " docplex.mp.LinearConstraint[input9](x_8,EQ,-0.6037614142464092)]"
      ]
     },
     "execution_count": 6,
     "metadata": {},
     "output_type": "execute_result"
    }
   ],
   "source": [
    "mdl_aux = mp_model.clone()\n",
    "minimal_explanation = get_minimal_explanation(mdl_aux, network_input, network_output, n_classes, 'fischetti', output_bounds)\n",
    "minimal_explanation"
   ]
  },
  {
   "cell_type": "markdown",
   "metadata": {},
   "source": [
    "### Improving the Explanation"
   ]
  },
  {
   "cell_type": "code",
   "execution_count": 7,
   "metadata": {},
   "outputs": [],
   "source": [
    "import docplex"
   ]
  },
  {
   "cell_type": "code",
   "execution_count": 23,
   "metadata": {},
   "outputs": [],
   "source": [
    "minimal_model = mdl_aux\n",
    "testing_model = minimal_model.clone()"
   ]
  },
  {
   "cell_type": "code",
   "execution_count": 24,
   "metadata": {},
   "outputs": [],
   "source": [
    "#print(testing_model.export_as_lp_string())"
   ]
  },
  {
   "cell_type": "code",
   "execution_count": 25,
   "metadata": {},
   "outputs": [
    {
     "data": {
      "text/plain": [
       "[docplex.mp.LinearConstraint[input1](x_0,EQ,2.967691214515491),\n",
       " docplex.mp.LinearConstraint[input4](x_3,EQ,-1.408120229258977),\n",
       " docplex.mp.LinearConstraint[input6](x_5,EQ,-0.790702170757714),\n",
       " docplex.mp.LinearConstraint[input7](x_6,EQ,4.24127975754059),\n",
       " docplex.mp.LinearConstraint[input8](x_7,EQ,-0.3615292659832898),\n",
       " docplex.mp.LinearConstraint[input9](x_8,EQ,-0.6037614142464092)]"
      ]
     },
     "execution_count": 25,
     "metadata": {},
     "output_type": "execute_result"
    }
   ],
   "source": [
    "linear_constraints = testing_model.find_matching_linear_constraints('input')\n",
    "linear_constraints"
   ]
  },
  {
   "cell_type": "code",
   "execution_count": 26,
   "metadata": {},
   "outputs": [],
   "source": [
    "linear_constraints = testing_model.find_matching_linear_constraints('input')\n",
    "\n",
    "for constraint in linear_constraints:\n",
    "\ttesting_model.remove_constraint(constraint)\n",
    "\ttesting_model.add_constraint(constraint.lhs <= constraint.rhs.clone(), 'input LE')\n",
    "\ttesting_model.add_constraint(constraint.lhs >= constraint.rhs.clone(), 'input GE')"
   ]
  },
  {
   "cell_type": "code",
   "execution_count": 27,
   "metadata": {},
   "outputs": [
    {
     "data": {
      "text/plain": [
       "[docplex.mp.LinearConstraint[input LE](x_0,LE,2.967691214515491),\n",
       " docplex.mp.LinearConstraint[input GE](x_0,GE,2.967691214515491),\n",
       " docplex.mp.LinearConstraint[input LE](x_3,LE,-1.408120229258977),\n",
       " docplex.mp.LinearConstraint[input GE](x_3,GE,-1.408120229258977),\n",
       " docplex.mp.LinearConstraint[input LE](x_5,LE,-0.790702170757714),\n",
       " docplex.mp.LinearConstraint[input GE](x_5,GE,-0.790702170757714),\n",
       " docplex.mp.LinearConstraint[input LE](x_6,LE,4.24127975754059),\n",
       " docplex.mp.LinearConstraint[input GE](x_6,GE,4.24127975754059),\n",
       " docplex.mp.LinearConstraint[input LE](x_7,LE,-0.3615292659832898),\n",
       " docplex.mp.LinearConstraint[input GE](x_7,GE,-0.3615292659832898),\n",
       " docplex.mp.LinearConstraint[input LE](x_8,LE,-0.6037614142464092),\n",
       " docplex.mp.LinearConstraint[input GE](x_8,GE,-0.6037614142464092)]"
      ]
     },
     "execution_count": 27,
     "metadata": {},
     "output_type": "execute_result"
    }
   ],
   "source": [
    "linear_constraints = testing_model.find_matching_linear_constraints('input')\n",
    "linear_constraints"
   ]
  },
  {
   "cell_type": "code",
   "execution_count": 28,
   "metadata": {},
   "outputs": [],
   "source": [
    "#print(testing_model.export_as_lp_string())"
   ]
  },
  {
   "cell_type": "code",
   "execution_count": 29,
   "metadata": {},
   "outputs": [],
   "source": [
    "def log_and_improve_explanation(minimal_explanation: list, epsilon: float):\n",
    "\tfor constraint in minimal_explanation:\n",
    "\t\ttesting_model.solve()\n",
    "\t\tprint('Initial constraint:' + '\\t', constraint)\n",
    "\n",
    "\t\tvariable = constraint.lhs\n",
    "\t\twhile testing_model.solution is None:\n",
    "\t\t\tif constraint.sense == docplex.mp.constants.ComparisonType.LE:\n",
    "\t\t\t\tif constraint.rhs.constant <= variable.ub:\n",
    "\t\t\t\t\tconstraint.rhs += epsilon\n",
    "\t\t\t\telse:\n",
    "\t\t\t\t\tbreak\n",
    "\t\t\telif constraint.sense == docplex.mp.constants.ComparisonType.GE:\n",
    "\t\t\t\tif constraint.rhs.constant >= variable.lb:\n",
    "\t\t\t\t\tconstraint.rhs -= epsilon\n",
    "\t\t\t\telse:\n",
    "\t\t\t\t\tbreak\n",
    "\t\t\telse:\n",
    "\t\t\t\traise Exception('Constraint sense was neither LE nor GE')\n",
    "\n",
    "\t\t\ttesting_model.solve()\n",
    "\n",
    "\t\t# Undo last operation\n",
    "\t\tif constraint.sense == docplex.mp.constants.ComparisonType.LE:\n",
    "\t\t\tconstraint.rhs -= epsilon\n",
    "\t\telif constraint.sense == docplex.mp.constants.ComparisonType.GE:\n",
    "\t\t\tconstraint.rhs += epsilon\n",
    "\n",
    "\t\tprint('Final constraint:' + '\\t', constraint)\n",
    "\t\tprint()"
   ]
  },
  {
   "cell_type": "code",
   "execution_count": 30,
   "metadata": {},
   "outputs": [],
   "source": [
    "def find_bounds(minimal_explanation: list):\n",
    "    for constraint in minimal_explanation:\n",
    "        #testing_model.solve()\n",
    "        print('Initial constraint:' + '\\t', constraint)\n",
    "\n",
    "        variable = constraint.lhs\n",
    "        print(f\"variable {variable} ub {variable.ub}\")\n",
    "        print(f\"variable {variable} lb {variable.lb}\")\n",
    "\n",
    "def find_constraints(minimal_explanation: list):\n",
    "    for constraint in minimal_explanation:\n",
    "        print(constraint)\n",
    "        if constraint.sense == docplex.mp.constants.ComparisonType.GE:\n",
    "            print('\\n')"
   ]
  },
  {
   "cell_type": "code",
   "execution_count": 31,
   "metadata": {},
   "outputs": [
    {
     "data": {
      "text/plain": [
       "'\\nfor constraint in linear_constraints:\\n    variable = constraint.lhs\\n    constraint_val = constraint.rhs\\n    constraint_type = constraint.sense\\n    print(f\"{constraint}, Variable: {variable}, Constraint Value: {constraint_val}, constraint_type: {constraint_type}\")\\n    constraint.rhs.add(-constraint_val + 100)\\n    print(f\"NEW: {constraint}\")\\n'"
      ]
     },
     "execution_count": 31,
     "metadata": {},
     "output_type": "execute_result"
    }
   ],
   "source": [
    "'''\n",
    "for constraint in linear_constraints:\n",
    "    variable = constraint.lhs\n",
    "    constraint_val = constraint.rhs\n",
    "    constraint_type = constraint.sense\n",
    "    print(f\"{constraint}, Variable: {variable}, Constraint Value: {constraint_val}, constraint_type: {constraint_type}\")\n",
    "    constraint.rhs.add(-constraint_val + 100)\n",
    "    print(f\"NEW: {constraint}\")\n",
    "'''"
   ]
  },
  {
   "cell_type": "code",
   "execution_count": 32,
   "metadata": {},
   "outputs": [],
   "source": [
    "def find_ranges(minimal_explanation: list, epsilon: float):\n",
    "    constraint_LE = None\n",
    "    constraint_GE = None\n",
    "    for i, constraint in enumerate(minimal_explanation):\n",
    "        print('Initial constraint:' + '\\t', constraint)\n",
    "\n",
    "        variable = constraint.lhs\n",
    "        constraint_val = constraint.rhs.constant\n",
    "        #Check if its a (var <= value) constraint\n",
    "        if constraint.sense == docplex.mp.constants.ComparisonType.LE: \n",
    "            #the value in(var <= value) is set to the maximum possible, i.e. the upper bound\n",
    "            constraint.rhs = variable.ub\n",
    "            print(f\"LE constraint set to upper bound {variable.ub} --> {constraint}\")\n",
    "            \n",
    "            testing_model.minimize(variable)            \n",
    "            sol = testing_model.solve()\n",
    "            if sol:\n",
    "                print(f\"Changed class with value = {testing_model.objective_value}\")\n",
    "                print(f\"Diference between original value and solver found value: {abs(constraint_val) - abs(testing_model.objective_value)}\")\n",
    "                print(f\"Epsilon >= Diference? {abs(abs(constraint_val) - abs(testing_model.objective_value)) <= epsilon}\")\n",
    "                if constraint_val <= (testing_model.objective_value - epsilon):\n",
    "                    print(constraint_val, (testing_model.objective_value - epsilon))\n",
    "                    constraint_LE = testing_model.objective_value - epsilon\n",
    "                    \n",
    "                else:\n",
    "                    print(\"[MIN] Reducing epsilon overpasses original value.\")\n",
    "                    constraint_LE = constraint_val\n",
    "                    \n",
    "            else:\n",
    "                print(f\"Class not changed\")\n",
    "                constraint_LE = variable.ub\n",
    "            #constraint.rhs = constraint_val\n",
    "            #print(f\"Reseted constraint to {constraint_val} --> {constraint} \")\n",
    "            constraint.rhs = constraint_LE\n",
    "\n",
    "        #Check if its a (var >= value)\n",
    "        elif constraint.sense == docplex.mp.constants.ComparisonType.GE:\n",
    "            constraint.rhs = variable.lb\n",
    "            print(f\"GE constraint set to lower bound {variable.lb} --> {constraint}\")\n",
    "            \n",
    "            testing_model.maximize(variable)            \n",
    "            sol = testing_model.solve()\n",
    "            if sol:\n",
    "                print(f\"Changed class with value = {testing_model.objective_value}\")\n",
    "                print(f\"Diference between original value and solver found value: {abs(constraint_val) - abs(testing_model.objective_value)}\")\n",
    "                print(f\"Epsilon >= Diference? {abs(abs(constraint_val) - abs(testing_model.objective_value)) <= epsilon}\")\n",
    "                if constraint_val >= (testing_model.objective_value + epsilon):\n",
    "                    constraint_GE = testing_model.objective_value + epsilon\n",
    "                else:\n",
    "                    print(\"[MAX] Reducing epsilon overpasses original value.\")\n",
    "                    constraint_GE = constraint_val\n",
    "            else:\n",
    "                print(f\"Class not changed\")\n",
    "                constraint_GE = variable.lb\n",
    "\n",
    "            constraint.rhs = constraint_GE\n",
    "            '''\n",
    "            print(constraint_LE, variable.ub, constraint_LE == variable.ub)\n",
    "            print(constraint_GE, variable.lb, constraint_GE == variable.lb)\n",
    "            if (constraint_LE and constraint_GE) :\n",
    "                \n",
    "                if constraint_GE != variable.lb:\n",
    "                    constraint.rhs = constraint_GE\n",
    "                    \n",
    "                else:\n",
    "                    constraint.rhs = variable.lb\n",
    "                    \n",
    "                if constraint_LE != variable.ub:\n",
    "                    minimal_explanation[i-1].rhs = constraint_LE\n",
    "                else:\n",
    "                    minimal_explanation[i-1].rhs = variable.ub\n",
    "                    \n",
    "                constraint_LE = None\n",
    "                constraint_GE = None\n",
    "                print(f\"UPDATED Bounds for {variable}: {constraint.rhs.constant}, {minimal_explanation[i-1].rhs.constant}\")\n",
    "                print(minimal_explanation[i-1])\n",
    "                print(constraint)\n",
    "                \n",
    "            else:\n",
    "\n",
    "                print(\"FAILED\")\n",
    "            '''\n",
    "            \n",
    "            if (constraint_LE and constraint_GE):\n",
    "                print(f\"Found bounds for {variable}: {constraint_GE}, {constraint_LE}\")\n",
    "                constraint_LE = None\n",
    "                constraint_GE = None\n",
    "        else:\n",
    "            raise Exception('Constraint sense was neither LE nor GE')\n",
    "        print(\"\\n\")\n",
    "            \n",
    "            "
   ]
  },
  {
   "cell_type": "code",
   "execution_count": 33,
   "metadata": {},
   "outputs": [
    {
     "name": "stdout",
     "output_type": "stream",
     "text": [
      "Initial constraint:\t input LE: x_0 <= 2.967691214515491\n",
      "LE constraint set to upper bound 5.1279016612406805 --> input LE: x_0 <= 5.1279016612406805\n",
      "Class not changed\n",
      "\n",
      "\n",
      "Initial constraint:\t input GE: x_0 >= 2.967691214515491\n",
      "GE constraint set to lower bound -2.343651902203461 --> input GE: x_0 >= -2.343651902203461\n",
      "Changed class with value = 1.4235358259063398\n",
      "Diference between original value and solver found value: 1.5441553886091512\n",
      "Epsilon >= Diference? False\n",
      "Found bounds for x_0: 1.4245358259063396, 5.1279016612406805\n",
      "\n",
      "\n",
      "Initial constraint:\t input LE: x_3 <= -1.408120229258977\n",
      "LE constraint set to upper bound 4.136918742833424 --> input LE: x_3 <= 4.136918742833424\n",
      "Changed class with value = -1.4076186320104656\n",
      "Diference between original value and solver found value: 0.0005015972485113984\n",
      "Epsilon >= Diference? True\n",
      "[MIN] Reducing epsilon overpasses original value.\n",
      "\n",
      "\n",
      "Initial constraint:\t input GE: x_3 >= -1.408120229258977\n",
      "GE constraint set to lower bound -2.335654020954433 --> input GE: x_3 >= -2.335654020954433\n",
      "Changed class with value = -1.5200929200834394\n",
      "Diference between original value and solver found value: -0.11197269082446248\n",
      "Epsilon >= Diference? False\n",
      "Found bounds for x_3: -1.5190929200834395, -1.408120229258977\n",
      "\n",
      "\n",
      "Initial constraint:\t input LE: x_5 <= -0.790702170757714\n",
      "LE constraint set to upper bound 8.672524288611543 --> input LE: x_5 <= 8.672524288611543\n",
      "Changed class with value = -0.7897823940467695\n",
      "Diference between original value and solver found value: 0.0009197767109444532\n",
      "Epsilon >= Diference? True\n",
      "[MIN] Reducing epsilon overpasses original value.\n",
      "\n",
      "\n",
      "Initial constraint:\t input GE: x_5 >= -0.790702170757714\n",
      "GE constraint set to lower bound -0.790702170757714 --> input GE: x_5 >= -0.790702170757714\n",
      "Class not changed\n",
      "Found bounds for x_5: -0.790702170757714, -0.790702170757714\n",
      "\n",
      "\n",
      "Initial constraint:\t input LE: x_6 <= 4.24127975754059\n",
      "LE constraint set to upper bound 5.107769273886023 --> input LE: x_6 <= 5.107769273886023\n",
      "Changed class with value = 4.242598847684429\n",
      "Diference between original value and solver found value: -0.0013190901438395741\n",
      "Epsilon >= Diference? False\n",
      "4.24127975754059 4.241598847684429\n",
      "\n",
      "\n",
      "Initial constraint:\t input GE: x_6 >= 4.24127975754059\n",
      "GE constraint set to lower bound -2.472252836582964 --> input GE: x_6 >= -2.472252836582964\n",
      "Changed class with value = 4.240507575127491\n",
      "Diference between original value and solver found value: 0.000772182413098399\n",
      "Epsilon >= Diference? True\n",
      "[MAX] Reducing epsilon overpasses original value.\n",
      "Found bounds for x_6: 4.24127975754059, 4.241598847684429\n",
      "\n",
      "\n",
      "Initial constraint:\t input LE: x_7 <= -0.3615292659832898\n",
      "LE constraint set to upper bound 5.870652354644297 --> input LE: x_7 <= 5.870652354644297\n",
      "Changed class with value = -0.3610457613841561\n",
      "Diference between original value and solver found value: 0.0004835045991337106\n",
      "Epsilon >= Diference? True\n",
      "[MIN] Reducing epsilon overpasses original value.\n",
      "\n",
      "\n",
      "Initial constraint:\t input GE: x_7 >= -0.3615292659832898\n",
      "GE constraint set to lower bound -0.3615292659832898 --> input GE: x_7 >= -0.3615292659832898\n",
      "Class not changed\n",
      "Found bounds for x_7: -0.3615292659832898, -0.3615292659832898\n",
      "\n",
      "\n",
      "Initial constraint:\t input LE: x_8 <= -0.6037614142464092\n",
      "LE constraint set to upper bound 4.570275951283269 --> input LE: x_8 <= 4.570275951283269\n",
      "Changed class with value = -0.6030107207896099\n",
      "Diference between original value and solver found value: 0.000750693456799234\n",
      "Epsilon >= Diference? True\n",
      "[MIN] Reducing epsilon overpasses original value.\n",
      "\n",
      "\n",
      "Initial constraint:\t input GE: x_8 >= -0.6037614142464092\n",
      "GE constraint set to lower bound -0.6037614142464092 --> input GE: x_8 >= -0.6037614142464092\n",
      "Class not changed\n",
      "Found bounds for x_8: -0.6037614142464092, -0.6037614142464092\n",
      "\n",
      "\n"
     ]
    }
   ],
   "source": [
    "#find_bounds(linear_constraints)\n",
    "find_ranges(linear_constraints, epsilon = 0.001)"
   ]
  },
  {
   "cell_type": "code",
   "execution_count": 34,
   "metadata": {},
   "outputs": [
    {
     "data": {
      "text/plain": [
       "[docplex.mp.LinearConstraint[input LE](x_0,LE,5.1279016612406805),\n",
       " docplex.mp.LinearConstraint[input GE](x_0,GE,1.4245358259063396),\n",
       " docplex.mp.LinearConstraint[input LE](x_3,LE,-1.408120229258977),\n",
       " docplex.mp.LinearConstraint[input GE](x_3,GE,-1.5190929200834395),\n",
       " docplex.mp.LinearConstraint[input LE](x_5,LE,-0.790702170757714),\n",
       " docplex.mp.LinearConstraint[input GE](x_5,GE,-0.790702170757714),\n",
       " docplex.mp.LinearConstraint[input LE](x_6,LE,4.241598847684429),\n",
       " docplex.mp.LinearConstraint[input GE](x_6,GE,4.24127975754059),\n",
       " docplex.mp.LinearConstraint[input LE](x_7,LE,-0.3615292659832898),\n",
       " docplex.mp.LinearConstraint[input GE](x_7,GE,-0.3615292659832898),\n",
       " docplex.mp.LinearConstraint[input LE](x_8,LE,-0.6037614142464092),\n",
       " docplex.mp.LinearConstraint[input GE](x_8,GE,-0.6037614142464092)]"
      ]
     },
     "execution_count": 34,
     "metadata": {},
     "output_type": "execute_result"
    }
   ],
   "source": [
    "testing_model.find_matching_linear_constraints('input')"
   ]
  },
  {
   "cell_type": "code",
   "execution_count": null,
   "metadata": {},
   "outputs": [],
   "source": [
    "testing_model.minimize(1)\n",
    "sol = testing_model.solve()\n",
    "sol"
   ]
  },
  {
   "cell_type": "code",
   "execution_count": null,
   "metadata": {},
   "outputs": [],
   "source": [
    "#print(testing_model.export_as_lp_string())"
   ]
  },
  {
   "cell_type": "code",
   "execution_count": null,
   "metadata": {},
   "outputs": [],
   "source": [
    "for i in range(129, 140):\n",
    "    print((testing_model.get_var_by_index(i)), testing_model.get_var_by_index(i).value)"
   ]
  },
  {
   "cell_type": "code",
   "execution_count": null,
   "metadata": {},
   "outputs": [],
   "source": [
    "testing_model.get_var_by_index(129), testing_model.get_var_by_index(130), testing_model.get_var_by_index(131), testing_model.get_var_by_index(132), testing_model.get_var_by_index(133)"
   ]
  },
  {
   "cell_type": "code",
   "execution_count": null,
   "metadata": {},
   "outputs": [],
   "source": [
    "for element in testing_model.solution.iter_var_values():\n",
    "    print(element)"
   ]
  },
  {
   "cell_type": "code",
   "execution_count": 18,
   "metadata": {},
   "outputs": [
    {
     "name": "stdout",
     "output_type": "stream",
     "text": [
      "input LE: x_0 <= 2.967691214515491\n",
      "input GE: x_0 >= 2.967691214515491\n",
      "\n",
      "\n",
      "input LE: x_3 <= -1.408120229258977\n",
      "input GE: x_3 >= -1.408120229258977\n",
      "\n",
      "\n",
      "input LE: x_5 <= -0.790702170757714\n",
      "input GE: x_5 >= -0.790702170757714\n",
      "\n",
      "\n",
      "input LE: x_6 <= 4.24127975754059\n",
      "input GE: x_6 >= 4.24127975754059\n",
      "\n",
      "\n",
      "input LE: x_7 <= -0.3615292659832898\n",
      "input GE: x_7 >= -0.3615292659832898\n",
      "\n",
      "\n",
      "input LE: x_8 <= -0.6037614142464092\n",
      "input GE: x_8 >= -0.6037614142464092\n",
      "\n",
      "\n"
     ]
    }
   ],
   "source": [
    "find_constraints(linear_constraints)"
   ]
  },
  {
   "cell_type": "code",
   "execution_count": 19,
   "metadata": {
    "tags": []
   },
   "outputs": [
    {
     "name": "stdout",
     "output_type": "stream",
     "text": [
      "Initial constraint:\t input LE: x_0 <= 2.967691214515491\n",
      "Final constraint:\t input LE: x_0 <= 5.127691214515754\n",
      "\n",
      "Initial constraint:\t input GE: x_0 >= 2.967691214515491\n",
      "Final constraint:\t input GE: x_0 >= 1.423691214515661\n",
      "\n",
      "Initial constraint:\t input LE: x_3 <= -1.408120229258977\n",
      "Final constraint:\t input LE: x_3 <= -1.408120229258977\n",
      "\n",
      "Initial constraint:\t input GE: x_3 >= -1.408120229258977\n",
      "Final constraint:\t input GE: x_3 >= -1.5191202292589647\n",
      "\n",
      "Initial constraint:\t input LE: x_5 <= -0.790702170757714\n",
      "Final constraint:\t input LE: x_5 <= -0.790702170757714\n",
      "\n",
      "Initial constraint:\t input GE: x_5 >= -0.790702170757714\n",
      "Final constraint:\t input GE: x_5 >= -0.790702170757714\n",
      "\n",
      "Initial constraint:\t input LE: x_6 <= 4.24127975754059\n",
      "Final constraint:\t input LE: x_6 <= 4.24127975754059\n",
      "\n",
      "Initial constraint:\t input GE: x_6 >= 4.24127975754059\n",
      "Final constraint:\t input GE: x_6 >= 4.24127975754059\n",
      "\n",
      "Initial constraint:\t input LE: x_7 <= -0.3615292659832898\n",
      "Final constraint:\t input LE: x_7 <= -0.3615292659832898\n",
      "\n",
      "Initial constraint:\t input GE: x_7 >= -0.3615292659832898\n",
      "Final constraint:\t input GE: x_7 >= -0.3615292659832898\n",
      "\n",
      "Initial constraint:\t input LE: x_8 <= -0.6037614142464092\n",
      "Final constraint:\t input LE: x_8 <= -0.6037614142464092\n",
      "\n",
      "Initial constraint:\t input GE: x_8 >= -0.6037614142464092\n",
      "Final constraint:\t input GE: x_8 >= -0.6037614142464092\n",
      "\n"
     ]
    }
   ],
   "source": [
    "log_and_improve_explanation(linear_constraints, epsilon=0.001)"
   ]
  },
  {
   "cell_type": "code",
   "execution_count": 20,
   "metadata": {},
   "outputs": [
    {
     "data": {
      "text/plain": [
       "[docplex.mp.LinearConstraint[input LE](x_0,LE,5.127691214515754),\n",
       " docplex.mp.LinearConstraint[input GE](x_0,GE,1.423691214515661),\n",
       " docplex.mp.LinearConstraint[input LE](x_3,LE,-1.408120229258977),\n",
       " docplex.mp.LinearConstraint[input GE](x_3,GE,-1.5191202292589647),\n",
       " docplex.mp.LinearConstraint[input LE](x_5,LE,-0.790702170757714),\n",
       " docplex.mp.LinearConstraint[input GE](x_5,GE,-0.790702170757714),\n",
       " docplex.mp.LinearConstraint[input LE](x_6,LE,4.24127975754059),\n",
       " docplex.mp.LinearConstraint[input GE](x_6,GE,4.24127975754059),\n",
       " docplex.mp.LinearConstraint[input LE](x_7,LE,-0.3615292659832898),\n",
       " docplex.mp.LinearConstraint[input GE](x_7,GE,-0.3615292659832898),\n",
       " docplex.mp.LinearConstraint[input LE](x_8,LE,-0.6037614142464092),\n",
       " docplex.mp.LinearConstraint[input GE](x_8,GE,-0.6037614142464092)]"
      ]
     },
     "execution_count": 20,
     "metadata": {},
     "output_type": "execute_result"
    }
   ],
   "source": [
    "linear_constraints = testing_model.find_matching_linear_constraints('input')\n",
    "linear_constraints"
   ]
  },
  {
   "cell_type": "code",
   "execution_count": 21,
   "metadata": {},
   "outputs": [],
   "source": [
    "number_of_inputs = len(dataframe.columns.drop('target'))\n",
    "for i in range(number_of_inputs):\n",
    "\tconstraints_of_x_i = filter(lambda x: x.lhs.name == f'x_{i}', linear_constraints)\n",
    "\tconstraints = [c for c in constraints_of_x_i]\n",
    "\n",
    "\tif len(constraints) == 2:\n",
    "\t\tif constraints[0].rhs.constant == constraints[1].rhs.constant:\n",
    "\t\t\ttesting_model.remove_constraints(constraints)\n",
    "\t\t\ttesting_model.add_constraint(constraints[0].lhs == constraints[0].rhs, 'input')"
   ]
  },
  {
   "cell_type": "code",
   "execution_count": 22,
   "metadata": {},
   "outputs": [
    {
     "data": {
      "text/plain": [
       "[docplex.mp.LinearConstraint[input LE](x_0,LE,5.127691214515754),\n",
       " docplex.mp.LinearConstraint[input GE](x_0,GE,1.423691214515661),\n",
       " docplex.mp.LinearConstraint[input LE](x_3,LE,-1.408120229258977),\n",
       " docplex.mp.LinearConstraint[input GE](x_3,GE,-1.5191202292589647),\n",
       " docplex.mp.LinearConstraint[input](x_5,EQ,-0.790702170757714),\n",
       " docplex.mp.LinearConstraint[input](x_6,EQ,4.24127975754059),\n",
       " docplex.mp.LinearConstraint[input](x_7,EQ,-0.3615292659832898),\n",
       " docplex.mp.LinearConstraint[input](x_8,EQ,-0.6037614142464092)]"
      ]
     },
     "execution_count": 22,
     "metadata": {},
     "output_type": "execute_result"
    }
   ],
   "source": [
    "improved_explanation = testing_model.find_matching_linear_constraints('input')\n",
    "improved_explanation"
   ]
  },
  {
   "cell_type": "code",
   "execution_count": null,
   "metadata": {},
   "outputs": [],
   "source": []
  }
 ],
 "metadata": {
  "kernelspec": {
   "display_name": "venv",
   "language": "python",
   "name": "venv"
  },
  "language_info": {
   "codemirror_mode": {
    "name": "ipython",
    "version": 3
   },
   "file_extension": ".py",
   "mimetype": "text/x-python",
   "name": "python",
   "nbconvert_exporter": "python",
   "pygments_lexer": "ipython3",
   "version": "3.9.13"
  }
 },
 "nbformat": 4,
 "nbformat_minor": 4
}
